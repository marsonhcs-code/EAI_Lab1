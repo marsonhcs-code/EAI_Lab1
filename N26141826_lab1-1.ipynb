{
 "cells": [
  {
   "cell_type": "markdown",
   "id": "d7b4d311",
   "metadata": {
    "id": "d7b4d311"
   },
   "source": [
    "\n",
    "# Lab1 Task1：從零實作 MLP 訓練 MNIST（No CNN）\n",
    "\n",
    "本 Notebook 依作業要求實作：  \n",
    "- **NN Layer**：`Linear / ReLU / Sigmoid / Softmax(+CrossEntropy)`，含 Forward/Backward。  \n",
    "- **MNIST 訓練設定**：集中參數配置、**Cross-Validation**（train/valid 或 K-Fold）。  \n",
    "- **自訂 MLP**（至少一層 Hidden Layer）。  \n",
    "- **繪製 Training/Validation Loss & Accuracy 圖**。  \n",
    "\n",
    "\n"
   ]
  },
  {
   "cell_type": "code",
   "execution_count": 1,
   "id": "c79c318f",
   "metadata": {
    "colab": {
     "base_uri": "https://localhost:8080/"
    },
    "executionInfo": {
     "elapsed": 24915,
     "status": "ok",
     "timestamp": 1760442449646,
     "user": {
      "displayName": "marson Huang",
      "userId": "10482768600697558320"
     },
     "user_tz": -480
    },
    "id": "c79c318f",
    "outputId": "365bc92e-5c76-42e0-d6c7-d836296e6db4"
   },
   "outputs": [
    {
     "name": "stdout",
     "output_type": "stream",
     "text": [
      "Mounted at /content/drive\n"
     ]
    }
   ],
   "source": [
    "from google.colab import drive\n",
    "drive.mount('/content/drive')"
   ]
  },
  {
   "cell_type": "code",
   "execution_count": 2,
   "id": "cfb1f1b4",
   "metadata": {
    "colab": {
     "base_uri": "https://localhost:8080/"
    },
    "executionInfo": {
     "elapsed": 610,
     "status": "ok",
     "timestamp": 1760442450260,
     "user": {
      "displayName": "marson Huang",
      "userId": "10482768600697558320"
     },
     "user_tz": -480
    },
    "id": "cfb1f1b4",
    "outputId": "df699d85-f4ac-4ac3-8e9b-ac6946569092"
   },
   "outputs": [
    {
     "name": "stdout",
     "output_type": "stream",
     "text": [
      "/content/drive/MyDrive/AI_lab/Lab1 Material\n"
     ]
    }
   ],
   "source": [
    "%cd /content/drive/MyDrive/AI_lab/Lab1\\ Material"
   ]
  },
  {
   "cell_type": "code",
   "execution_count": 3,
   "id": "66363e5f",
   "metadata": {
    "executionInfo": {
     "elapsed": 291,
     "status": "ok",
     "timestamp": 1760442450553,
     "user": {
      "displayName": "marson Huang",
      "userId": "10482768600697558320"
     },
     "user_tz": -480
    },
    "id": "66363e5f"
   },
   "outputs": [],
   "source": [
    "\n",
    "# === 匯入與參數 ===\n",
    "import os, math, json\n",
    "import numpy as np\n",
    "import matplotlib.pyplot as plt\n",
    "\n",
    "CONFIG = {\n",
    "    \"seed\": 42,\n",
    "    \"data_normalize\": True,\n",
    "    \"zscore\": False,\n",
    "    \"validation_split\": 0.1,\n",
    "    \"k_folds\": 1,\n",
    "    \"num_epochs\": 20,\n",
    "    \"batch_size\": 128,\n",
    "    \"lr\": 0.1,\n",
    "    \"momentum\": 0.9,\n",
    "    \"weight_decay\": 1e-4,\n",
    "    \"hidden_dims\": [256, 128],\n",
    "    \"activation\": \"relu\",\n",
    "    \"artifacts_dir\": \"./artifacts\",\n",
    "    \"save_logs_csv\": True,\n",
    "    \"log_csv_path\": \"./artifacts/training_log.csv\",\n",
    "    \"plot_path\": \"./artifacts/training_curves.png\",\n",
    "    \"use_nesterov\": False,\n",
    "}\n",
    "os.makedirs(CONFIG[\"artifacts_dir\"], exist_ok=True)\n",
    "\n",
    "def set_seed(seed: int = 42):\n",
    "    np.random.seed(seed)\n",
    "\n",
    "def one_hot(y: np.ndarray, num_classes: int) -> np.ndarray:\n",
    "    out = np.zeros((y.shape[0], num_classes), dtype=np.float32)\n",
    "    out[np.arange(y.shape[0]), y] = 1.0\n",
    "    return out\n",
    "\n",
    "def accuracy(pred_logits: np.ndarray, y_true: np.ndarray) -> float:\n",
    "    preds = np.argmax(pred_logits, axis=1)\n",
    "    return float(np.mean(preds == y_true))\n",
    "\n",
    "def train_val_split(X, y, val_ratio=0.1, seed=42):\n",
    "    n = X.shape[0]\n",
    "    rng = np.random.default_rng(seed)\n",
    "    idx = np.arange(n); rng.shuffle(idx)\n",
    "    n_val = int(n * val_ratio)\n",
    "    val_idx = idx[:n_val]; train_idx = idx[n_val:]\n",
    "    return (X[train_idx], y[train_idx]), (X[val_idx], y[val_idx])\n",
    "\n",
    "def kfold_indices(n_samples: int, k: int, seed: int = 42):\n",
    "    rng = np.random.default_rng(seed)\n",
    "    idx = np.arange(n_samples); rng.shuffle(idx)\n",
    "    folds = np.array_split(idx, k)\n",
    "    return folds\n"
   ]
  },
  {
   "cell_type": "markdown",
   "id": "7e5b6362",
   "metadata": {
    "id": "7e5b6362"
   },
   "source": [
    "## 載入 MNIST（多來源 fallback）"
   ]
  },
  {
   "cell_type": "code",
   "execution_count": 4,
   "id": "feaebf44",
   "metadata": {
    "colab": {
     "base_uri": "https://localhost:8080/"
    },
    "executionInfo": {
     "elapsed": 6573,
     "status": "ok",
     "timestamp": 1760442457130,
     "user": {
      "displayName": "marson Huang",
      "userId": "10482768600697558320"
     },
     "user_tz": -480
    },
    "id": "feaebf44",
    "outputId": "a8c51b63-6af5-4786-8dac-4da9e29a2b06"
   },
   "outputs": [
    {
     "name": "stdout",
     "output_type": "stream",
     "text": [
      "Downloading data from https://storage.googleapis.com/tensorflow/tf-keras-datasets/mnist.npz\n",
      "\u001b[1m11490434/11490434\u001b[0m \u001b[32m━━━━━━━━━━━━━━━━━━━━\u001b[0m\u001b[37m\u001b[0m \u001b[1m2s\u001b[0m 0us/step\n",
      "MNIST 載入成功： (60000, 784) (60000,) (10000, 784) (10000,)\n"
     ]
    }
   ],
   "source": [
    "\n",
    "def load_mnist():\n",
    "    \"\"\"\n",
    "    回傳：X_train (N, 784), y_train (N,), X_test (N2, 784), y_test (N2,)\n",
    "    優先使用順序：keras -> sklearn openml -> 當前目錄 mnist.npz\n",
    "    \"\"\"\n",
    "    # 1) keras\n",
    "    try:\n",
    "        from tensorflow.keras.datasets import mnist as keras_mnist  # type: ignore\n",
    "        (x_train, y_train), (x_test, y_test) = keras_mnist.load_data()\n",
    "        X_train = x_train.reshape(-1, 28*28).astype(np.float32)\n",
    "        X_test  = x_test.reshape(-1, 28*28).astype(np.float32)\n",
    "        return X_train, y_train.astype(np.int64), X_test, y_test.astype(np.int64)\n",
    "    except Exception as e:\n",
    "        print(\"[load_mnist] keras 下載失敗或不可用：\", e)\n",
    "\n",
    "    # 2) sklearn (需網路)\n",
    "    try:\n",
    "        from sklearn.datasets import fetch_openml  # type: ignore\n",
    "        mnist = fetch_openml('mnist_784', version=1, as_frame=False)\n",
    "        X = mnist['data'].astype(np.float32)\n",
    "        y = mnist['target'].astype(np.int64)\n",
    "        return X[:60000], y[:60000], X[60000:], y[60000:]\n",
    "    except Exception as e:\n",
    "        print(\"[load_mnist] sklearn openml 失敗：\", e)\n",
    "\n",
    "    # 3) 本地 mnist.npz（Keras 版）\n",
    "    local_npz = \"mnist.npz\"\n",
    "    if os.path.exists(local_npz):\n",
    "        with np.load(local_npz) as data:\n",
    "            x_train, y_train = data[\"x_train\"], data[\"y_train\"]\n",
    "            x_test, y_test   = data[\"x_test\"], data[\"y_test\"]\n",
    "        return (x_train.reshape(-1, 784).astype(np.float32), y_train.astype(np.int64),\n",
    "                x_test.reshape(-1, 784).astype(np.float32), y_test.astype(np.int64))\n",
    "\n",
    "    raise RuntimeError(\"無法載入 MNIST；請將 keras 版 mnist.npz 放到此資料夾後再執行。\")\n",
    "\n",
    "def normalize_inputs(X: np.ndarray, use_zscore: bool = False) -> np.ndarray:\n",
    "    X = X / 255.0\n",
    "    if use_zscore:\n",
    "        mean = X.mean(axis=0, keepdims=True)\n",
    "        std = X.std(axis=0, keepdims=True) + 1e-6\n",
    "        X = (X - mean) / std\n",
    "    return X.astype(np.float32)\n",
    "\n",
    "# 快測\n",
    "try:\n",
    "    Xtr_tmp, ytr_tmp, Xte_tmp, yte_tmp = load_mnist()\n",
    "    print(\"MNIST 載入成功：\", Xtr_tmp.shape, ytr_tmp.shape, Xte_tmp.shape, yte_tmp.shape)\n",
    "except Exception as e:\n",
    "    print(str(e))\n"
   ]
  },
  {
   "cell_type": "markdown",
   "id": "a7cf2ffd",
   "metadata": {
    "id": "a7cf2ffd"
   },
   "source": [
    "## Layers：Linear / ReLU / Sigmoid / SoftmaxCrossEntropy"
   ]
  },
  {
   "cell_type": "code",
   "execution_count": null,
   "id": "24c31411",
   "metadata": {
    "executionInfo": {
     "elapsed": 12,
     "status": "ok",
     "timestamp": 1760442457151,
     "user": {
      "displayName": "marson Huang",
      "userId": "10482768600697558320"
     },
     "user_tz": -480
    },
    "id": "24c31411"
   },
   "outputs": [],
   "source": [
    "\n",
    "class Layer:\n",
    "    def forward(self, x: np.ndarray) -> np.ndarray: raise NotImplementedError\n",
    "    def backward(self, grad_out: np.ndarray) -> np.ndarray: raise NotImplementedError\n",
    "    def params_and_grads(self): return []\n",
    "\n",
    "class Linear(Layer):\n",
    "    def __init__(self, in_features: int, out_features: int, weight_scale: float = None):\n",
    "        if weight_scale is None:\n",
    "            weight_scale = math.sqrt(2.0 / in_features)\n",
    "        self.W = (np.random.randn(in_features, out_features).astype(np.float32) * weight_scale)\n",
    "        self.b = np.zeros((1, out_features), dtype=np.float32)\n",
    "        self.dW = np.zeros_like(self.W); self.db = np.zeros_like(self.b)\n",
    "        self.cache_x = None\n",
    "\n",
    "    def forward(self, x):\n",
    "        self.cache_x = x\n",
    "        return x @ self.W + self.b\n",
    "\n",
    "    def backward(self, grad_out):\n",
    "        x = self.cache_x\n",
    "        self.dW[...] = x.T @ grad_out\n",
    "        self.db[...] = np.sum(grad_out, axis=0, keepdims=True)\n",
    "        return grad_out @ self.W.T\n",
    "\n",
    "    def params_and_grads(self):\n",
    "        yield self.W, self.dW\n",
    "        yield self.b, self.db\n",
    "\n",
    "class ReLU(Layer):\n",
    "    def __init__(self): self.mask = None\n",
    "    def forward(self, x):\n",
    "        self.mask = (x > 0).astype(np.float32); return x * self.mask\n",
    "    def backward(self, grad_out): return grad_out * self.mask\n",
    "\n",
    "class Sigmoid(Layer):\n",
    "    def __init__(self): self.out = None\n",
    "    def forward(self, x):\n",
    "        self.out = (1 / (1 + np.exp(-x))).astype(np.float32); return self.out\n",
    "    def backward(self, grad_out): return grad_out * self.out * (1 - self.out)\n",
    "\n",
    "class SoftmaxCrossEntropy:\n",
    "    def __init__(self):\n",
    "        self.logits = None; self.y_true = None; self.probs = None\n",
    "    def forward(self, logits: np.ndarray, y_true: np.ndarray, weight_decay: float = 0.0, params_l2: float = 0.0) -> float:\n",
    "        self.logits = logits; self.y_true = y_true\n",
    "        shifted = logits - logits.max(axis=1, keepdims=True)\n",
    "        exp = np.exp(shifted); probs = exp / np.sum(exp, axis=1, keepdims=True)\n",
    "        self.probs = probs\n",
    "        N = logits.shape[0]\n",
    "        loss = -np.log(probs[np.arange(N), y_true] + 1e-12).mean()\n",
    "        reg = weight_decay * params_l2 if weight_decay > 0 else 0.0\n",
    "        return float(loss + reg)\n",
    "    def backward(self) -> np.ndarray:\n",
    "        N = self.logits.shape[0]\n",
    "        grad = self.probs.copy()\n",
    "        grad[np.arange(N), self.y_true] -= 1.0\n",
    "        return (grad / N).astype(np.float32)\n"
   ]
  },
  {
   "cell_type": "markdown",
   "id": "7d5c6996",
   "metadata": {
    "id": "7d5c6996"
   },
   "source": [
    "## Optimizer 與 MLP"
   ]
  },
  {
   "cell_type": "code",
   "execution_count": 6,
   "id": "b33fea19",
   "metadata": {
    "executionInfo": {
     "elapsed": 2,
     "status": "ok",
     "timestamp": 1760442457154,
     "user": {
      "displayName": "marson Huang",
      "userId": "10482768600697558320"
     },
     "user_tz": -480
    },
    "id": "b33fea19"
   },
   "outputs": [],
   "source": [
    "\n",
    "class SGD:\n",
    "    def __init__(self, params, lr=0.1, momentum=0.9, nesterov=False, weight_decay=0.0):\n",
    "        self.lr = lr; self.momentum = momentum; self.nesterov = nesterov; self.weight_decay = weight_decay\n",
    "        self.velocities = [np.zeros_like(p) for (p, g) in params]\n",
    "\n",
    "    def step(self, params):\n",
    "        for i, (p, g) in enumerate(params):\n",
    "            if self.weight_decay > 0: g = g + self.weight_decay * p\n",
    "            v = self.velocities[i]; v *= self.momentum; v += self.lr * g\n",
    "            if self.nesterov: p -= self.momentum * v + self.lr * g\n",
    "            else: p -= v\n",
    "\n",
    "class MLP:\n",
    "    def __init__(self, input_dim: int, hidden_dims, num_classes: int, activation=\"relu\"):\n",
    "        layers = []; prev = input_dim\n",
    "        act_cls = ReLU if activation.lower() == \"relu\" else Sigmoid\n",
    "        for h in hidden_dims:\n",
    "            layers += [Linear(prev, h), act_cls()]\n",
    "            prev = h\n",
    "        layers += [Linear(prev, num_classes)]\n",
    "        self.layers = layers\n",
    "        self.criterion = SoftmaxCrossEntropy()\n",
    "\n",
    "    def forward(self, x):\n",
    "        out = x\n",
    "        for layer in self.layers:\n",
    "            out = layer.forward(out)\n",
    "        return out\n",
    "\n",
    "    def backward(self, grad_logits):\n",
    "        grad = grad_logits\n",
    "        for layer in reversed(self.layers):\n",
    "            grad = layer.backward(grad)\n",
    "\n",
    "    def params_and_grads(self):\n",
    "        for layer in self.layers:\n",
    "            for pair in layer.params_and_grads():\n",
    "                yield pair\n",
    "\n",
    "    def l2_params_sum(self) -> float:\n",
    "        s = 0.0\n",
    "        for layer in self.layers:\n",
    "            for (p, _) in layer.params_and_grads():\n",
    "                s += float(np.sum(p * p))\n",
    "        return s\n"
   ]
  },
  {
   "cell_type": "markdown",
   "id": "2c0b7129",
   "metadata": {
    "id": "2c0b7129"
   },
   "source": [
    "## 訓練 & 畫圖"
   ]
  },
  {
   "cell_type": "code",
   "execution_count": 7,
   "id": "c2862f81",
   "metadata": {
    "executionInfo": {
     "elapsed": 13,
     "status": "ok",
     "timestamp": 1760442457203,
     "user": {
      "displayName": "marson Huang",
      "userId": "10482768600697558320"
     },
     "user_tz": -480
    },
    "id": "c2862f81"
   },
   "outputs": [],
   "source": [
    "\n",
    "def iterate_minibatches(X, y, batch_size, shuffle=True, seed=42):\n",
    "    n = X.shape[0]; idx = np.arange(n)\n",
    "    if shuffle:\n",
    "        rng = np.random.default_rng(seed); rng.shuffle(idx)\n",
    "    for s in range(0, n, batch_size):\n",
    "        e = min(s + batch_size, n)\n",
    "        b = idx[s:e]\n",
    "        yield X[b], y[b]\n",
    "\n",
    "def fit_once(model, X_train, y_train, X_val, y_val, config):\n",
    "    logs = {\"epoch\": [], \"train_loss\": [], \"train_acc\": [], \"val_loss\": [], \"val_acc\": []}\n",
    "    opt = SGD(list(model.params_and_grads()), lr=config[\"lr\"], momentum=config[\"momentum\"],\n",
    "              nesterov=config[\"use_nesterov\"], weight_decay=config[\"weight_decay\"])\n",
    "    for ep in range(1, config[\"num_epochs\"] + 1):\n",
    "        tr_loss = tr_acc = 0.0; n_tr = 0\n",
    "        for xb, yb in iterate_minibatches(X_train, y_train, config[\"batch_size\"], True, seed=config[\"seed\"]+ep):\n",
    "            logits = model.forward(xb)\n",
    "            loss = model.criterion.forward(logits, yb, weight_decay=config[\"weight_decay\"], params_l2=model.l2_params_sum())\n",
    "            grad = model.criterion.backward()\n",
    "            model.backward(grad)\n",
    "            opt.step(list(model.params_and_grads()))\n",
    "            tr_loss += loss * xb.shape[0]; tr_acc += accuracy(logits, yb) * xb.shape[0]; n_tr += xb.shape[0]\n",
    "        train_loss = tr_loss / n_tr; train_acc = tr_acc / n_tr\n",
    "        logits_val = model.forward(X_val)\n",
    "        val_loss = model.criterion.forward(logits_val, y_val, weight_decay=config[\"weight_decay\"], params_l2=model.l2_params_sum())\n",
    "        val_acc = accuracy(logits_val, y_val)\n",
    "        logs[\"epoch\"].append(ep); logs[\"train_loss\"].append(train_loss); logs[\"train_acc\"].append(train_acc)\n",
    "        logs[\"val_loss\"].append(val_loss); logs[\"val_acc\"].append(val_acc)\n",
    "        print(f\"[Epoch {ep:02d}] train_loss={train_loss:.4f} acc={train_acc*100:.2f}% | val_loss={val_loss:.4f} acc={val_acc*100:.2f}%\")\n",
    "    return logs\n",
    "\n",
    "def plot_curves(logs, out_path):\n",
    "    ep = logs[\"epoch\"]\n",
    "    plt.figure(figsize=(7,4)); plt.plot(ep, logs[\"train_loss\"], label=\"Train Loss\"); plt.plot(ep, logs[\"val_loss\"], label=\"Val Loss\")\n",
    "    plt.xlabel(\"Epoch\"); plt.ylabel(\"Loss\"); plt.legend(); plt.title(\"Loss\"); plt.tight_layout()\n",
    "    plt.savefig(out_path.replace(\".png\", \"_loss.png\"), dpi=150); plt.show()\n",
    "\n",
    "    plt.figure(figsize=(7,4)); plt.plot(ep, [x*100 for x in logs[\"train_acc\"]], label=\"Train Acc\")\n",
    "    plt.plot(ep, [x*100 for x in logs[\"val_acc\"]], label=\"Val Acc\")\n",
    "    plt.xlabel(\"Epoch\"); plt.ylabel(\"Accuracy (%)\"); plt.legend(); plt.title(\"Accuracy\"); plt.tight_layout()\n",
    "    plt.savefig(out_path.replace(\".png\", \"_acc.png\"), dpi=150); plt.show()\n",
    "\n",
    "def save_logs_csv(logs, csv_path):\n",
    "    import csv\n",
    "    keys = [\"epoch\", \"train_loss\", \"train_acc\", \"val_loss\", \"val_acc\"]\n",
    "    with open(csv_path, \"w\", newline=\"\", encoding=\"utf-8\") as f:\n",
    "        w = csv.writer(f); w.writerow(keys)\n",
    "        rows = zip(*[logs[k] for k in keys])\n",
    "        for r in rows: w.writerow(r)\n",
    "    print(\"[csv] saved ->\", csv_path)\n"
   ]
  },
  {
   "cell_type": "markdown",
   "id": "d65141c2",
   "metadata": {
    "id": "d65141c2"
   },
   "source": [
    "## （A）單次 train/valid 訓練"
   ]
  },
  {
   "cell_type": "code",
   "execution_count": 8,
   "id": "e026b950",
   "metadata": {
    "colab": {
     "base_uri": "https://localhost:8080/",
     "height": 1000
    },
    "executionInfo": {
     "elapsed": 55039,
     "status": "ok",
     "timestamp": 1760442512244,
     "user": {
      "displayName": "marson Huang",
      "userId": "10482768600697558320"
     },
     "user_tz": -480
    },
    "id": "e026b950",
    "outputId": "ae713cc2-3379-4b09-9d7c-3c2d519abdfe"
   },
   "outputs": [
    {
     "name": "stdout",
     "output_type": "stream",
     "text": [
      "[Epoch 01] train_loss=0.3438 acc=92.16% | val_loss=0.2452 acc=95.22%\n",
      "[Epoch 02] train_loss=0.1943 acc=97.00% | val_loss=0.2142 acc=96.53%\n",
      "[Epoch 03] train_loss=0.1666 acc=97.83% | val_loss=0.1912 acc=97.47%\n",
      "[Epoch 04] train_loss=0.1509 acc=98.39% | val_loss=0.2033 acc=97.23%\n",
      "[Epoch 05] train_loss=0.1401 acc=98.70% | val_loss=0.2061 acc=97.15%\n",
      "[Epoch 06] train_loss=0.1325 acc=98.97% | val_loss=0.1871 acc=97.55%\n",
      "[Epoch 07] train_loss=0.1271 acc=99.12% | val_loss=0.2007 acc=97.62%\n",
      "[Epoch 08] train_loss=0.1214 acc=99.26% | val_loss=0.1838 acc=97.85%\n",
      "[Epoch 09] train_loss=0.1146 acc=99.46% | val_loss=0.1924 acc=97.78%\n",
      "[Epoch 10] train_loss=0.1097 acc=99.52% | val_loss=0.1826 acc=97.80%\n",
      "[Epoch 11] train_loss=0.1033 acc=99.67% | val_loss=0.1742 acc=97.97%\n",
      "[Epoch 12] train_loss=0.0984 acc=99.72% | val_loss=0.1797 acc=97.73%\n",
      "[Epoch 13] train_loss=0.0930 acc=99.84% | val_loss=0.1577 acc=98.22%\n",
      "[Epoch 14] train_loss=0.0852 acc=99.95% | val_loss=0.1572 acc=98.12%\n",
      "[Epoch 15] train_loss=0.0806 acc=99.96% | val_loss=0.1518 acc=98.02%\n",
      "[Epoch 16] train_loss=0.0765 acc=99.96% | val_loss=0.1439 acc=98.20%\n",
      "[Epoch 17] train_loss=0.0739 acc=99.95% | val_loss=0.1481 acc=98.07%\n",
      "[Epoch 18] train_loss=0.0709 acc=99.97% | val_loss=0.1403 acc=98.10%\n",
      "[Epoch 19] train_loss=0.0679 acc=99.96% | val_loss=0.1394 acc=98.07%\n",
      "[Epoch 20] train_loss=0.0839 acc=99.42% | val_loss=0.1472 acc=97.77%\n",
      "[csv] saved -> ./artifacts/training_log.csv\n"
     ]
    },
    {
     "data": {
      "image/png": "[encoded data removed]",
      "text/plain": [
       "<Figure size 700x400 with 1 Axes>"
      ]
     },
     "metadata": {},
     "output_type": "display_data"
    },
    {
     "data": {
      "image/png": "[encoded data removed]",
      "text/plain": [
       "<Figure size 700x400 with 1 Axes>"
      ]
     },
     "metadata": {},
     "output_type": "display_data"
    },
    {
     "name": "stdout",
     "output_type": "stream",
     "text": [
      "[TEST] loss=0.1302 acc=98.11%\n"
     ]
    }
   ],
   "source": [
    "\n",
    "set_seed(CONFIG[\"seed\"])\n",
    "\n",
    "X_train, y_train, X_test, y_test = load_mnist()\n",
    "if CONFIG[\"data_normalize\"]:\n",
    "    X_train = normalize_inputs(X_train, CONFIG[\"zscore\"])\n",
    "    X_test  = normalize_inputs(X_test,  CONFIG[\"zscore\"])\n",
    "\n",
    "if CONFIG[\"k_folds\"] <= 1:\n",
    "    (X_tr, y_tr), (X_val, y_val) = train_val_split(X_train, y_train, CONFIG[\"validation_split\"], CONFIG[\"seed\"])\n",
    "    model = MLP(input_dim=X_train.shape[1], hidden_dims=CONFIG[\"hidden_dims\"], num_classes=10, activation=CONFIG[\"activation\"])\n",
    "    logs = fit_once(model, X_tr, y_tr, X_val, y_val, CONFIG)\n",
    "    if CONFIG[\"save_logs_csv\"]:\n",
    "        save_logs_csv(logs, CONFIG[\"log_csv_path\"])\n",
    "    plot_curves(logs, CONFIG[\"plot_path\"])\n",
    "\n",
    "    # Test\n",
    "    test_logits = model.forward(X_test)\n",
    "    test_loss = model.criterion.forward(test_logits, y_test, weight_decay=CONFIG[\"weight_decay\"], params_l2=model.l2_params_sum())\n",
    "    test_acc = accuracy(test_logits, y_test)\n",
    "    print(f\"[TEST] loss={test_loss:.4f} acc={test_acc*100:.2f}%\")\n",
    "else:\n",
    "    print(\"目前 CONFIG['k_folds'] > 1，請改跑下一節 K-Fold。\")\n"
   ]
  },
  {
   "cell_type": "markdown",
   "id": "8ad581c1",
   "metadata": {
    "id": "8ad581c1"
   },
   "source": [
    "## （B）K-Fold 交叉驗證"
   ]
  },
  {
   "cell_type": "code",
   "execution_count": 9,
   "id": "ca7341fc",
   "metadata": {
    "executionInfo": {
     "elapsed": 9,
     "status": "ok",
     "timestamp": 1760442512254,
     "user": {
      "displayName": "marson Huang",
      "userId": "10482768600697558320"
     },
     "user_tz": -480
    },
    "id": "ca7341fc"
   },
   "outputs": [],
   "source": [
    "\n",
    "if CONFIG[\"k_folds\"] > 1:\n",
    "    folds = kfold_indices(X_train.shape[0], CONFIG[\"k_folds\"], CONFIG[\"seed\"])\n",
    "    fold_accs = []\n",
    "    for k, val_idx in enumerate(folds, start=1):\n",
    "        train_idx = np.concatenate([folds[i] for i in range(len(folds)) if i != (k-1)])\n",
    "        X_tr, y_tr = X_train[train_idx], y_train[train_idx]\n",
    "        X_val, y_val = X_train[val_idx], y_train[val_idx]\n",
    "        print(f\"\\n===== Fold {k}/{CONFIG['k_folds']} | train={X_tr.shape[0]} val={X_val.shape[0]} =====\")\n",
    "        model = MLP(input_dim=X_train.shape[1], hidden_dims=CONFIG[\"hidden_dims\"], num_classes=10, activation=CONFIG[\"activation\"])\n",
    "        logs = fit_once(model, X_tr, y_tr, X_val, y_val, CONFIG)\n",
    "        fold_accs.append(logs[\"val_acc\"][-1])\n",
    "    print(\"\\n[K-Fold] mean val_acc =\", np.mean(fold_accs)*100, \"%\")\n"
   ]
  }
 ],
 "metadata": {
  "accelerator": "GPU",
  "colab": {
   "gpuType": "T4",
   "provenance": []
  },
  "kernelspec": {
   "display_name": "Python 3",
   "name": "python3"
  },
  "language_info": {
   "name": "python"
  }
 },
 "nbformat": 4,
 "nbformat_minor": 5
}
