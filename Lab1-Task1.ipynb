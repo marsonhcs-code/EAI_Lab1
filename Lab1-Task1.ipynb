{
 "cells": [
  {
   "cell_type": "markdown",
   "metadata": {},
   "source": [
    " # Lab 1 Task 1"
   ]
  },
  {
   "cell_type": "markdown",
   "metadata": {},
   "source": [
    " ## 1. Implement the following layers as Python functions (both forward and backward propagation)# * Inner-product layer# * Activation layer(Sigmoid or Rectified)# * Softmax layer"
   ]
  },
  {
   "cell_type": "code",
   "execution_count": 1,
   "metadata": {},
   "outputs": [],
   "source": [
    "# !pip install matplotlib numpy tqdm google\n",
    "\n",
    "# # %% [code] cell 4\n",
    "# from google.colab import drive\n",
    "# drive.mount('/content/drive')\n"
   ]
  },
  {
   "cell_type": "code",
   "execution_count": 2,
   "metadata": {},
   "outputs": [],
   "source": [
    "# %cd /content/drive/MyDrive/AI_lab/Lab1\\ Material\n"
   ]
  },
  {
   "cell_type": "code",
   "execution_count": 3,
   "metadata": {},
   "outputs": [],
   "source": [
    "import os\n",
    "from typing import Callable, Iterable, Optional\n",
    "import matplotlib.pyplot as plt\n",
    "import numpy as np\n",
    "from tqdm import tqdm\n",
    "from concurrent.futures import ProcessPoolExecutor, as_completed\n",
    "import multiprocessing as mp\n",
    "import csv\n",
    "from itertools import product\n",
    "import time\n"
   ]
  },
  {
   "cell_type": "code",
   "execution_count": 4,
   "metadata": {},
   "outputs": [],
   "source": [
    "class Parameter:\n",
    "    def __init__(self, data: np.ndarray) -> None:\n",
    "        self.data = data\n",
    "        self.grad = None\n",
    "\n",
    "\n",
    "class Module:\n",
    "    def __call__(self, *args, **kwargs) -> np.ndarray:\n",
    "        return self.forward(*args, **kwargs) \n",
    "\n",
    "    def __repr__(self) -> str:\n",
    "        layers = '\\n'.join([f'  ({k}): {v}' for k, v in self.__dict__.items()])\n",
    "        return f'{self.__class__.__name__}(\\n{layers}\\n)'\n",
    "    \n",
    "    def forward(self, x):\n",
    "        raise NotImplementedError(\"Subclasses should implement this!\")\n",
    "    \n",
    "    def backward(self, dy):\n",
    "        raise NotImplementedError(\"Subclasses should implement this!\")"
   ]
  },
  {
   "cell_type": "code",
   "execution_count": 5,
   "metadata": {},
   "outputs": [],
   "source": [
    "class Linear(Module):\n",
    "    def __init__(self, in_features, out_features) -> None:\n",
    "        super().__init__()\n",
    "        self.in_features = in_features\n",
    "        self.out_features = out_features\n",
    "\n",
    "        # Initialize weights and biases\n",
    "        init_factor = 0.01\n",
    "        self.W = Parameter(np.random.randn(in_features, out_features) * init_factor)\n",
    "        self.b = Parameter(np.zeros((1, out_features)))\n",
    "\n",
    "        # Cache for backward pass\n",
    "        self.x = None\n",
    "\n",
    "    def forward(self, x):\n",
    "        # y = x @ W + b\n",
    "        # x: (N, in_features), W: (in_features, out_features), b: (1, out_features)\n",
    "        self.x = x\n",
    "        return x @ self.W.data + self.b.data\n",
    "\n",
    "    def backward(self, dy):\n",
    "        # dy: (N, out_features)\n",
    "        # dW = x^T @ dy, db = sum(dy), dx = dy @ W^T\n",
    "        # Make sure self.x is not None\n",
    "        if self.x is None:\n",
    "            raise ValueError(\"self.x is None. Did you forget to call forward before backward?\")\n",
    "        dW = self.x.T @ dy                                  # (in_features, out_features)\n",
    "        db = np.sum(dy, axis=0, keepdims=True)              # (1, out_features)\n",
    "        dx = dy @ self.W.data.T                             # (N, in_features)\n",
    "\n",
    "        # 寫回參數的梯度（通常外面會有 zero_grad() 再累加或覆蓋）\n",
    "        self.W.grad = dW\n",
    "        self.b.grad = db\n",
    "        return dx\n",
    "\n",
    "    def parameters(self):\n",
    "        return self.W, self.b\n",
    "\n",
    "    def __repr__(self) -> str:\n",
    "        return f'{self.__class__.__name__}(in_features={self.in_features}, out_features={self.out_features})'\n",
    "\n",
    "\n",
    "class ReLU(Module):\n",
    "    def __init__(self) -> None:\n",
    "        super().__init__()\n",
    "        self.x = None\n",
    "\n",
    "    def forward(self, x):\n",
    "        # y = max(0, x)\n",
    "        self.x = x\n",
    "        return np.maximum(0, x)\n",
    "\n",
    "    def backward(self, dy):\n",
    "        # 確保 self.x 不是 None\n",
    "        if self.x is None:\n",
    "            raise ValueError(\"self.x is None. Did you forget to call forward before backward?\")\n",
    "        # dy ⊙ 1_{x > 0}\n",
    "        mask = (self.x > 0).astype(dy.dtype)\n",
    "        return dy * mask\n",
    "\n",
    "    def __repr__(self) -> str:\n",
    "        return f'{self.__class__.__name__}()'\n",
    "\n",
    "\n",
    "class Sigmoid(Module):\n",
    "    def __init__(self) -> None:\n",
    "        super().__init__()\n",
    "        self.y = None\n",
    "\n",
    "    def forward(self, x):\n",
    "        # y = 1 / (1 + exp(-x))\n",
    "        # 儲存 y 以便 backward 使用 y*(1-y)\n",
    "        y = 1.0 / (1.0 + np.exp(-x))\n",
    "        self.y = y\n",
    "        return y\n",
    "\n",
    "    def backward(self, dy):\n",
    "        # 確保 self.y 不是 None\n",
    "        if self.y is None:\n",
    "            raise ValueError(\"self.y is None. Did you forget to call forward before backward?\")\n",
    "        # dy ⊙ y(1 - y)\n",
    "        return dy * (self.y * (1.0 - self.y))\n",
    "\n",
    "    def __repr__(self) -> str:\n",
    "        return f'{self.__class__.__name__}()'\n",
    "\n",
    "\n",
    "class Softmax(Module):\n",
    "    def __init__(self) -> None:\n",
    "        super().__init__()\n",
    "        self.y = None\n",
    "\n",
    "    def forward(self, x):\n",
    "        # 數值穩定 softmax\n",
    "        # x: (N, C)\n",
    "        x_shift = x - np.max(x, axis=1, keepdims=True)\n",
    "        exps = np.exp(x_shift)\n",
    "        y = exps / np.sum(exps, axis=1, keepdims=True)\n",
    "        self.y = y\n",
    "        return y\n",
    "\n",
    "    def backward(self, dy):\n",
    "        # 通常與 Cross-Entropy 合併成簡化梯度 (y - one_hot)\n",
    "        # 這裡維持講義設定：在 CE Loss 內完成簡化，因此此處直接回傳 dy\n",
    "        return dy\n",
    "\n",
    "    def __repr__(self) -> str:\n",
    "        return f'{self.__class__.__name__}()'\n",
    "\n",
    "\n",
    "class MLP(Module):\n",
    "    def __init__(self) -> None:\n",
    "        # 保持原模板的 __init__ 介面（不帶參數）\n",
    "        self.fc1 = Linear(28*28, 256)\n",
    "        self.act1 = ReLU()\n",
    "        self.fc2 = Linear(256, 10)\n",
    "\n",
    "    def forward(self, x):\n",
    "        # x: (N, 784) with values in [0,1]\n",
    "        z1 = self.fc1(x)\n",
    "        a1 = self.act1(z1)\n",
    "        z2 = self.fc2(a1)  # logits\n",
    "        return z2\n",
    "\n",
    "    def backward(self, dy):\n",
    "        # dy: gradient w.r.t logits\n",
    "        dz2 = self.fc2.backward(dy)\n",
    "        dz1 = self.act1.backward(dz2)\n",
    "        dx  = self.fc1.backward(dz1)\n",
    "        return dx\n",
    "\n",
    "    def parameters(self):\n",
    "        return self.fc1.parameters() + self.fc2.parameters()"
   ]
  },
  {
   "cell_type": "markdown",
   "metadata": {},
   "source": [
    " ## 2. Implement training and testing process# * included cross-validation"
   ]
  },
  {
   "cell_type": "code",
   "execution_count": 6,
   "metadata": {},
   "outputs": [],
   "source": [
    "class MNIST:\n",
    "    # root請根據你的檔案位置更改\n",
    "    def __init__(self, root='../data', train=True, transform: Optional[Callable] = None) -> None:\n",
    "        path = os.path.join(root, 'mnist_train.csv' if train else 'mnist_test.csv')\n",
    "        self.data = np.loadtxt(path, delimiter=',')\n",
    "        self.transform = transform\n",
    "        self.image_size = 28\n",
    "        self.num_classes = 10\n",
    "        self.classes = np.arange(self.num_classes)\n",
    "\n",
    "    def __len__(self):\n",
    "        return len(self.data)\n",
    "\n",
    "    def __getitem__(self, idx):\n",
    "        label = (self.data[idx, 0] == self.classes).astype(\n",
    "            np.float32\n",
    "        )  # one-hot encoding\n",
    "        image = (\n",
    "            self.data[idx, 1:]\n",
    "            .reshape(self.image_size * self.image_size)\n",
    "            .astype(np.float32)\n",
    "        )\n",
    "        if self.transform:\n",
    "            image = self.transform(image)\n",
    "        return image, label\n",
    "\n",
    "\n",
    "class Subset:\n",
    "    \n",
    "    def __init__(self, dataset, indices: Iterable) -> None:\n",
    "        self.dataset = dataset\n",
    "        self.indices = list(indices)  # Ensure indices is sized\n",
    "\n",
    "    def __len__(self):\n",
    "        return len(self.indices)\n",
    "\n",
    "    def __getitem__(self, idx):\n",
    "        return self.dataset[self.indices[idx]]\n",
    "\n",
    "\n",
    "class DataLoader:\n",
    "    def __init__(self, dataset, batch_size=1) -> None:\n",
    "        self.dataset = dataset\n",
    "        self.batch_size = batch_size\n",
    "        self.indices = np.arange(len(dataset))\n",
    "\n",
    "    def __len__(self):\n",
    "        return (len(self.dataset) + self.batch_size - 1) // self.batch_size\n",
    "\n",
    "    def __iter__(self):\n",
    "        for start_idx in range(0, len(self.dataset), self.batch_size):\n",
    "            end_idx = min(start_idx + self.batch_size, len(self.dataset))\n",
    "            batch_indices = self.indices[start_idx:end_idx]\n",
    "\n",
    "            batch_images = []\n",
    "            batch_labels = []\n",
    "\n",
    "            for idx in batch_indices:\n",
    "                image, label = self.dataset[idx]\n",
    "                batch_images.append(image)\n",
    "                batch_labels.append(label)\n",
    "\n",
    "            yield np.array(batch_images), np.array(batch_labels)\n"
   ]
  },
  {
   "cell_type": "code",
   "execution_count": 7,
   "metadata": {},
   "outputs": [],
   "source": [
    "# Separate train_imgs, train_labels into training and validation\n",
    "# root請根據你的檔案位置更改\n",
    "def load_mnist_data(root=\".\", batch_size=1, split_ratio=0.1, transform=None) -> tuple[DataLoader, DataLoader, DataLoader]:\n",
    "    # split_ratio: fraction of training data to use for validation\n",
    "    def _split_dataset(dataset, split_ratio):\n",
    "        # split dataset into training and validation sets\n",
    "        # hint: return Subset(dataset, train_indices), Subset(dataset, valid_indices)\n",
    "        n = len(dataset)\n",
    "        indices = np.random.permutation(n)\n",
    "        n_valid = int(n * split_ratio)\n",
    "        valid_indices = indices[:n_valid]\n",
    "        train_indices = indices[n_valid:]\n",
    "        return Subset(dataset, train_indices), Subset(dataset, valid_indices)\n",
    "\n",
    "\n",
    "    trainset = MNIST(root=root, train=True, transform=transform)\n",
    "    testset = MNIST(root=root, train=False, transform=transform)\n",
    "    trainset, validset = _split_dataset(trainset, split_ratio=split_ratio)\n",
    "    trainldr = DataLoader(trainset, batch_size=batch_size)\n",
    "    validldr = DataLoader(validset, batch_size=batch_size)\n",
    "    testldr = DataLoader(testset, batch_size=batch_size)\n",
    "    return trainldr, validldr, testldr\n"
   ]
  },
  {
   "cell_type": "code",
   "execution_count": 8,
   "metadata": {},
   "outputs": [],
   "source": [
    "\n",
    "class CrossEntropyLoss(Module):\n",
    "    def __init__(self, epsilon=1e-15) -> None:\n",
    "        super().__init__()\n",
    "        self.epsilon = epsilon  # small value to avoid log(0)\n",
    "        self.y_pred = None\n",
    "        self.y_true = None\n",
    "\n",
    "    def forward(self, y_pred, y_true):\n",
    "        self.y_pred = np.clip(y_pred, self.epsilon, 1 - self.epsilon)\n",
    "        self.y_true = y_true\n",
    "        batch_size = y_true.shape[0]\n",
    "        loss = -np.sum(y_true * np.log(self.y_pred)) / batch_size\n",
    "        return loss\n",
    "\n",
    "    def backward(self):\n",
    "        if self.y_true is None or self.y_pred is None:\n",
    "            raise ValueError(\"Must call forward before backward.\")\n",
    "        batch_size = self.y_true.shape[0]\n",
    "        grad = (self.y_pred - self.y_true) / batch_size\n",
    "        return grad\n",
    "\n",
    "    def __repr__(self) -> str:\n",
    "        return f\"{self.__class__.__name__}()\"\n",
    "\n",
    "\n",
    "class SGD:\n",
    "    def __init__(self, params: Iterable, lr: float = 1e-3) -> None:\n",
    "        self.params = params\n",
    "        self.lr = lr\n",
    "\n",
    "    def step(self):\n",
    "        for param in self.params:\n",
    "            if param.grad is not None:\n",
    "                param.data -= self.lr * param.grad\n",
    "\n",
    "    def zero_grad(self):\n",
    "        for param in self.params:\n",
    "            if param.grad is not None:\n",
    "                param.grad.fill(0)\n"
   ]
  },
  {
   "cell_type": "code",
   "execution_count": 9,
   "metadata": {},
   "outputs": [],
   "source": [
    "def train_one_epoch(model: Module, trainldr: Iterable, criterion, optimizer) -> tuple[float, float]:\n",
    "    total = 0\n",
    "    correct = 0\n",
    "    total_loss = 0.0\n",
    "    for x, y in tqdm(trainldr):\n",
    "        # 1) forward\n",
    "        logits = model(x)\n",
    "        # 2) loss (one-hot labels)\n",
    "        num_classes = 10\n",
    "        # y_onehot = np.eye(num_classes, dtype=np.float32)[y]\n",
    "        if y.ndim == 2 and y.shape[1] == num_classes:\n",
    "            # 已是 one-hot\n",
    "            y_onehot = y.astype(np.float32)\n",
    "            y_idx = np.argmax(y, axis=1)\n",
    "        else:\n",
    "            # 整數類別\n",
    "            y_idx = y.astype(np.int64).reshape(-1)\n",
    "            y_onehot = np.eye(num_classes, dtype=np.float32)[y_idx]\n",
    "        loss = criterion.forward(logits, y_onehot)\n",
    "\n",
    "        # 3) accuracy\n",
    "        pred = np.argmax(logits, axis=1)\n",
    "        # The y here is one-hot, convert it back to integer class indices for comparison\n",
    "        y_idx = np.argmax(y_onehot, axis=1)\n",
    "        correct += int((pred == y_idx).sum())\n",
    "        bs = x.shape[0]\n",
    "        total += bs\n",
    "        total_loss += loss * bs\n",
    "        # 4) backward\n",
    "        dlogits = criterion.backward()\n",
    "        model.backward(dlogits)\n",
    "        # 5) update\n",
    "        optimizer.step()\n",
    "        optimizer.zero_grad()\n",
    "\n",
    "    avg_loss = total_loss / total\n",
    "    accuracy = correct / total\n",
    "    return avg_loss, accuracy\n",
    "\n",
    "    snaps = []\n",
    "    for p in model.parameters():\n",
    "        snaps.append(np.array(p.data, copy=True))\n",
    "    return snaps\n",
    "\n",
    "def evaluate(model: Module, dataldr: Iterable) -> tuple[float, float]:\n",
    "    criterion = CrossEntropyLoss()\n",
    "    total = 0\n",
    "    correct = 0\n",
    "    total_loss = 0.0\n",
    "    for x, y in tqdm(dataldr):\n",
    "        logits = model(x)\n",
    "        num_classes = 10\n",
    "        # Ensure y is one-hot encoded for loss calculation and correct for accuracy\n",
    "        if y.ndim == 2 and y.shape[1] == num_classes:\n",
    "            # Already one-hot\n",
    "            y_onehot = y.astype(np.float32)\n",
    "            y_idx = np.argmax(y, axis=1)\n",
    "        else:\n",
    "            # Integer classes\n",
    "            y_idx = y.astype(np.int64).reshape(-1)\n",
    "            y_onehot = np.eye(num_classes, dtype=np.float32)[y_idx]\n",
    "\n",
    "        loss = criterion.forward(logits, y_onehot)\n",
    "        pred = np.argmax(logits, axis=1)\n",
    "        correct += int((pred == y_idx).sum()) # Compare prediction with integer class index\n",
    "        bs = x.shape[0]\n",
    "        total += bs\n",
    "        total_loss += loss * bs\n",
    "\n",
    "    avg_loss = total_loss / total\n",
    "    accuracy = correct / total\n",
    "    return avg_loss, accuracy\n",
    "\n",
    "def train(model: MLP, trainldr: Iterable, validldr: Iterable, epochs=10, lr=1e-3):\n",
    "    criterion = CrossEntropyLoss()\n",
    "    # 這邊提供SGD作為optimizer，同學也可以根據自己人需求更換其他optimizer\n",
    "    optimizer = SGD(model.parameters(), lr=lr)\n",
    "    train_loss = []\n",
    "    train_acc = []\n",
    "    valid_loss = []\n",
    "    valid_acc = []\n",
    "\n",
    "    for epoch in range(epochs):\n",
    "        loss, acc = train_one_epoch(model, trainldr, criterion, optimizer)\n",
    "        train_loss.append(loss)\n",
    "        train_acc.append(acc)\n",
    "        print(f'epoch {epoch:d}: train_loss = {loss}, train_acc = {acc}')\n",
    "\n",
    "        loss, acc = evaluate(model, validldr)\n",
    "        valid_loss.append(loss)\n",
    "        valid_acc.append(acc)\n",
    "        print(f'epoch {epoch:d}: valid_loss = {loss}, valid_acc = {acc}\\n')\n",
    "\n",
    "    return train_loss, train_acc, valid_loss, valid_acc\n",
    "\n",
    "def multicore_train(model: MLP, trainldr: Iterable, validldr: Iterable,\n",
    "          epochs=10, lr=1e-3, *,\n",
    "          mode=\"single\",\n",
    "          processes=max(1, (os.cpu_count() or 2) - 2),\n",
    "          global_batch_size=256,\n",
    "          start_method=\"fork\"):\n",
    "    \"\"\"\n",
    "    mode=\"single\"：單機逐batch更新（使用原本的 train_one_epoch）\n",
    "    mode=\"step_reduce\"：同一epoch內多核心同步平均梯度（Step-reduce）\n",
    "    \"\"\"\n",
    "    criterion = CrossEntropyLoss()\n",
    "    optimizer = SGD(model.parameters(), lr=lr)\n",
    "\n",
    "    train_loss, train_acc = [], []\n",
    "    valid_loss, valid_acc = [], []\n",
    "\n",
    "    for epoch in range(epochs):\n",
    "        if mode == \"step_reduce\":\n",
    "            # 多核心版：每個 step 聚合梯度後更新一次\n",
    "            loss, acc = train_one_epoch_step_reduce(\n",
    "                model, trainldr, optimizer,\n",
    "                processes=processes,\n",
    "                global_batch_size=global_batch_size,\n",
    "                num_classes=10,\n",
    "                start_method=start_method\n",
    "            )\n",
    "        else:\n",
    "            # 單機版：用你原本已定義的 train_one_epoch\n",
    "            loss, acc = train_one_epoch(model, trainldr, criterion, optimizer)\n",
    "\n",
    "        train_loss.append(loss)\n",
    "        train_acc.append(acc)\n",
    "        print(f'epoch {epoch:d}: train_loss = {loss}, train_acc = {acc}')\n",
    "\n",
    "        v_loss, v_acc = evaluate(model, validldr)\n",
    "        valid_loss.append(v_loss)\n",
    "        valid_acc.append(v_acc)\n",
    "        print(f'epoch {epoch:d}: valid_loss = {v_loss}, valid_acc = {v_acc}\\n')\n",
    "\n",
    "    return train_loss, train_acc, valid_loss, valid_acc\n",
    "\n",
    "def load_weights(model, snaps):\n",
    "    \"\"\"把快照載回到同架構模型。\"\"\"\n",
    "    for p, s in zip(model.parameters(), snaps):\n",
    "        p.data = s.copy()\n",
    "\n",
    "def prepare_targets(y, num_classes=10):\n",
    "    \"\"\"支援 int label 或 one-hot，回傳 (y_onehot, y_idx)。\"\"\"\n",
    "    if y.ndim == 2 and y.shape[1] == num_classes:\n",
    "        y_onehot = y.astype(np.float32)\n",
    "        y_idx = np.argmax(y, axis=1)\n",
    "    else:\n",
    "        y_idx = y.astype(np.int64).reshape(-1)\n",
    "        y_onehot = np.eye(num_classes, dtype=np.float32)[y_idx]\n",
    "    return y_onehot, y_idx\n",
    "\n",
    "def make_steps(trainldr, global_batch_size=256):\n",
    "    \"\"\"把 train loader 攤平成 list，依全域 batch 大小切成多個 step。\"\"\"\n",
    "    batches = list(trainldr)  # [(x,y), ...]\n",
    "    steps, cur, cur_n = [], [], 0\n",
    "    for (x, y) in batches:\n",
    "        cur.append((x, y))\n",
    "        cur_n += x.shape[0]\n",
    "        if cur_n >= global_batch_size:\n",
    "            steps.append(cur)\n",
    "            cur, cur_n = [], 0\n",
    "    if cur:\n",
    "        steps.append(cur)\n",
    "    return steps\n",
    "\n",
    "def snapshot_weights(model):\n",
    "    \"\"\"把模型參數拍成 numpy 快照，便於序列化傳到子行程。\"\"\"\n",
    "    snaps = []\n",
    "    for p in model.parameters():\n",
    "        snaps.append(np.array(p.data, copy=True))\n",
    "    return snaps\n",
    "\n",
    "def split_for_workers(step_batches, workers):\n",
    "    \"\"\"把單一步的批次平均分配給多個 workers。\"\"\"\n",
    "    workers = max(1, workers)\n",
    "    parts = [[] for _ in range(workers)]\n",
    "    for i, item in enumerate(step_batches):\n",
    "        parts[i % workers].append(item)\n",
    "    return [p for p in parts if p]  # 去除空分片（避免資料太少時為空）\n",
    "\n",
    "def worker_step_reduce(weights_snap, sub_batches, num_classes=10):\n",
    "    \"\"\"\n",
    "    子行程：拿到當前權重快照 + 一份子批次集合，計算梯度總和與統計並回傳。\n",
    "    注意：這裡建立自己的 loss 與模型，避免跨行程共享物件。\n",
    "    \"\"\"\n",
    "    net = MLP()\n",
    "    load_weights(net, weights_snap)\n",
    "\n",
    "    # 本 worker 的梯度累加器（形狀與權重相同）\n",
    "    grad_acc = [np.zeros_like(w) for w in weights_snap]\n",
    "    loss_sum, corr, tot = 0.0, 0, 0\n",
    "\n",
    "    local_criterion = CrossEntropyLoss()\n",
    "\n",
    "    for (x, y) in sub_batches:\n",
    "        logits = net.forward(x)\n",
    "        y_onehot, y_idx = prepare_targets(y, num_classes)\n",
    "        loss = local_criterion.forward(logits, y_onehot)\n",
    "\n",
    "        dlogits = local_criterion.backward()\n",
    "        _ = net.backward(dlogits)\n",
    "\n",
    "        # 累加每個參數的梯度\n",
    "        for gi, p in enumerate(net.parameters()):\n",
    "            grad_acc[gi] += p.grad\n",
    "\n",
    "        # 統計\n",
    "        loss_sum += float(loss)\n",
    "        corr     += int((np.argmax(logits, axis=1) == y_idx).sum())\n",
    "        tot      += x.shape[0]\n",
    "\n",
    "        # 清梯度（避免跨 batch 疊加）\n",
    "        for p in net.parameters():\n",
    "            if p.grad is not None:\n",
    "                p.grad[...] = 0\n",
    "\n",
    "    return grad_acc, loss_sum, corr, tot\n",
    "\n",
    "def train_one_epoch_step_reduce(model, trainldr, optimizer,\n",
    "                                processes=4, global_batch_size=256,\n",
    "                                num_classes=10, start_method=\"fork\"):\n",
    "    \"\"\"\n",
    "    同一個 epoch 內的同步資料並行（Step-reduce）：\n",
    "      對每個 step：\n",
    "        1) 主行程拍權重快照並廣播\n",
    "        2) 多個 worker 各算子批梯度\n",
    "        3) 主行程把梯度按樣本數平均後，更新一次參數\n",
    "    回傳：(epoch_loss, epoch_acc)\n",
    "    \"\"\"\n",
    "    # 把 trainldr 攤平成多個 step, step : global_batch data\n",
    "    steps = make_steps(trainldr, global_batch_size=global_batch_size)\n",
    "    if len(steps) == 0:\n",
    "        return 0.0, 0.0\n",
    "    ctx = mp.get_context(start_method)\n",
    "\n",
    "    epoch_loss, epoch_corr, epoch_tot = 0.0, 0, 0\n",
    "    with ProcessPoolExecutor(max_workers=processes, mp_context=ctx) as ex:\n",
    "        for step_batches in steps:\n",
    "            # 把 batch data 分給多個 worker\n",
    "            parts = split_for_workers(step_batches, processes)\n",
    "            # 將 當前模型權重拍成快照\n",
    "            w_snap = snapshot_weights(model)\n",
    "\n",
    "            futs = [ex.submit(worker_step_reduce, w_snap, part, num_classes) for part in parts]\n",
    "\n",
    "            # 聚合本 step 的梯度與統計\n",
    "            agg_grads = None\n",
    "            step_loss, step_corr, step_tot = 0.0, 0, 0\n",
    "            for f in futs:\n",
    "                g_part, l_part, c_part, t_part = f.result()\n",
    "                if agg_grads is None:\n",
    "                    agg_grads = [np.zeros_like(g) for g in g_part]\n",
    "                for gi in range(len(agg_grads)):\n",
    "                    agg_grads[gi] += g_part[gi]\n",
    "                step_loss += l_part\n",
    "                step_corr += c_part\n",
    "                step_tot  += t_part\n",
    "\n",
    "            # 以樣本數平均梯度（對齊 batch-mean）\n",
    "            for p, g in zip(model.parameters(), agg_grads if agg_grads is not None else []):\n",
    "                p.grad = g / float(step_tot)\n",
    "\n",
    "            optimizer.step()\n",
    "            optimizer.zero_grad()\n",
    "\n",
    "            epoch_loss += step_loss\n",
    "            epoch_corr += step_corr\n",
    "            epoch_tot  += step_tot\n",
    "\n",
    "    return epoch_loss / len(steps), epoch_corr / epoch_tot"
   ]
  },
  {
   "cell_type": "code",
   "execution_count": 10,
   "metadata": {},
   "outputs": [],
   "source": [
    "def transform(x):\n",
    "    \"\"\"map pixels information from range(0, 255) to range(0.01, 1)\"\"\"\n",
    "    x = np.asarray(x, dtype=np.float32) / 255.0\n",
    "    return np.asarray(x) * 0.99 + 0.01\n"
   ]
  },
  {
   "cell_type": "code",
   "execution_count": 11,
   "metadata": {},
   "outputs": [
    {
     "name": "stdout",
     "output_type": "stream",
     "text": [
      "train set: 54000 images\n",
      "validation set: 6000 images\n",
      "test set: 10000 images\n",
      "x shape: (1, 784)\n",
      "y shape: (1, 10)\n"
     ]
    }
   ],
   "source": [
    "# \"../data\"請根據你的檔案位置更改\n",
    "trainldr, validldr, testldr = load_mnist_data(\n",
    "    \".\", batch_size=1, transform=transform\n",
    ")\n",
    "print(f\"train set: {len(trainldr)} images\")\n",
    "print(f\"validation set: {len(validldr)} images\")\n",
    "print(f\"test set: {len(testldr)} images\")\n",
    "for x, y in trainldr:\n",
    "    print(f\"x shape: {x.shape}\")\n",
    "    print(f\"y shape: {y.shape}\")\n",
    "    break\n"
   ]
  },
  {
   "cell_type": "markdown",
   "metadata": {},
   "source": [
    " ## 3. Plot loss & accuracy curves(both Training and Validation)"
   ]
  },
  {
   "cell_type": "code",
   "execution_count": 19,
   "metadata": {},
   "outputs": [],
   "source": [
    "# ========== 小工具：存 CSV ==========\n",
    "def save_summary_csv(path, rows):\n",
    "    \"\"\"\n",
    "    rows: list of dicts with keys:\n",
    "      run_id, epochs, lr, mode, final_train_loss, final_train_acc,\n",
    "      final_valid_loss, final_valid_acc, test_loss, test_acc\n",
    "    \"\"\"\n",
    "    fieldnames = [\n",
    "        \"run_id\",\"epochs\",\"lr\",\"mode\",\n",
    "        \"final_train_loss\",\"final_train_acc\",\n",
    "        \"final_valid_loss\",\"final_valid_acc\",\n",
    "        \"test_loss\",\"test_acc\"\n",
    "    ]\n",
    "    with open(path, \"w\", newline=\"\", encoding=\"utf-8\") as f:\n",
    "        writer = csv.DictWriter(f, fieldnames=fieldnames)\n",
    "        writer.writeheader()\n",
    "        for r in rows:\n",
    "            writer.writerow(r)\n",
    "\n",
    "def save_history_csv(path, histories):\n",
    "    \"\"\"\n",
    "    histories: list of dicts; each dict:\n",
    "      {\n",
    "        \"run_id\": int,\n",
    "        \"epochs\": int,\n",
    "        \"lr\": float,\n",
    "        \"mode\": str,\n",
    "        \"history\": [\n",
    "            {\"epoch\": i, \"train_loss\":..., \"train_acc\":..., \"valid_loss\":..., \"valid_acc\":...}, ...\n",
    "        ]\n",
    "      }\n",
    "    → 輸出長表，每列對應 (run_id, epoch)\n",
    "    \"\"\"\n",
    "    fieldnames = [\"run_id\",\"epochs\",\"lr\",\"mode\",\"epoch\",\n",
    "                  \"train_loss\",\"train_acc\",\"valid_loss\",\"valid_acc\"]\n",
    "    with open(path, \"w\", newline=\"\", encoding=\"utf-8\") as f:\n",
    "        writer = csv.DictWriter(f, fieldnames=fieldnames)\n",
    "        writer.writeheader()\n",
    "        for h in histories:\n",
    "            meta = {k: h[k] for k in (\"run_id\",\"epochs\",\"lr\",\"mode\")}\n",
    "            for row in h[\"history\"]:\n",
    "                out = dict(meta); out.update(row)\n",
    "                writer.writerow(out)\n",
    "\n",
    "# ========== 畫疊圖 ==========\n",
    "def plot_overlay(results, save_prefix=\"\"):\n",
    "    \"\"\"\n",
    "    results: list of dicts, 每組格式：\n",
    "      {\n",
    "        \"run_id\": int,\n",
    "        \"config\": {\"epochs\": int, \"lr\": float, \"mode\": str},\n",
    "        \"train_loss\": [..], \"train_acc\":[..],\n",
    "        \"valid_loss\":[..], \"valid_acc\":[..],\n",
    "        \"test_loss\": float, \"test_acc\": float\n",
    "      }\n",
    "    會畫三張圖：loss_overlay.png、acc_overlay.png、test_acc_overlay.png 並 plt.show()\n",
    "    \"\"\"\n",
    "    for i, r in enumerate(results):\n",
    "        r[\"run_id\"] = i + 1  # 從 1 開始編號\n",
    "        \n",
    "    # --- Loss ---\n",
    "    plt.figure()\n",
    "    for i, r in enumerate(results):\n",
    "        label = f\"Run{r['run_id']} | ep={r['config']['epochs']} lr={r['config']['lr']} [{r['config']['mode']}]\"\n",
    "        x = range(1, len(r[\"train_loss\"])+1)\n",
    "        plt.plot(x, r[\"train_loss\"], label=f\"{label} - train\")\n",
    "        plt.plot(x, r[\"valid_loss\"], label=f\"{label} - valid\")\n",
    "    plt.xlabel(\"epoch\"); plt.ylabel(\"loss\")\n",
    "    plt.title(\"Training/Validation Loss (overlay)\")\n",
    "    plt.legend(); plt.grid(True); plt.tight_layout()\n",
    "    if save_prefix:\n",
    "        plt.savefig(f\"{save_prefix}loss_overlay.png\", dpi=150)\n",
    "    plt.show()\n",
    "\n",
    "    # --- Accuracy ---\n",
    "    plt.figure()\n",
    "    for r in results:\n",
    "        label = f\"Run{r['run_id']} | ep={r['config']['epochs']} lr={r['config']['lr']} [{r['config']['mode']}]\"\n",
    "        x = range(1, len(r[\"train_acc\"])+1)\n",
    "        plt.plot(x, r[\"train_acc\"], label=f\"{label} - train\")\n",
    "        plt.plot(x, r[\"valid_acc\"], label=f\"{label} - valid\")\n",
    "    plt.xlabel(\"epoch\"); plt.ylabel(\"accuracy\")\n",
    "    plt.title(\"Training/Validation Accuracy (overlay)\")\n",
    "    plt.legend(); plt.grid(True); plt.tight_layout()\n",
    "    if save_prefix:\n",
    "        plt.savefig(f\"{save_prefix}acc_overlay.png\", dpi=150)\n",
    "    plt.show()\n",
    "\n",
    "    items = []\n",
    "    for r in results:\n",
    "        ep = r[\"config\"][\"epochs\"]; lr = r[\"config\"][\"lr\"]; acc = r[\"test_acc\"]\n",
    "        items.append((f\"ep{ep}-lr{lr:g}\", acc))\n",
    "    items.sort(key=lambda x: x[1], reverse=True)\n",
    "    labels = [k for k,_ in items]; values = [v for _,v in items]\n",
    "\n",
    "    plt.figure(figsize=(10, 5))\n",
    "    plt.bar(range(len(values)), values)\n",
    "    plt.xticks(range(len(values)), labels, rotation=30, ha=\"right\")\n",
    "    plt.ylabel(\"test accuracy\"); plt.title(\"Summary of configs (test_acc)\")\n",
    "    plt.tight_layout()\n",
    "    plt.savefig(os.path.join(save_prefix, \"summary_test_acc.png\"), dpi=150)\n",
    "    plt.show()\n",
    "\n"
   ]
  },
  {
   "cell_type": "markdown",
   "metadata": {},
   "source": [
    "## 4. run parallel training (by multi-core)"
   ]
  },
  {
   "cell_type": "code",
   "execution_count": 20,
   "metadata": {},
   "outputs": [],
   "source": [
    "# ========== 一鍵跑多組（逐組執行，避免巢狀多進程） ==========\n",
    "def run_config_with_multicores(cfg,\n",
    "                               data_root=\".\",\n",
    "                               batch_size=128,\n",
    "                               global_batch_size=256,\n",
    "                               per_config_cores=5,\n",
    "                               start_method=\"fork\"):\n",
    "    # 限制 BLAS 執行緒，避免跟多進程互搶\n",
    "    os.environ.setdefault(\"OMP_NUM_THREADS\", \"1\")\n",
    "    os.environ.setdefault(\"OPENBLAS_NUM_THREADS\", \"1\")\n",
    "    os.environ.setdefault(\"MKL_NUM_THREADS\", \"1\")\n",
    "\n",
    "    # 1) Data\n",
    "    trainldr, validldr, testldr = load_mnist_data(\n",
    "        data_root, batch_size=batch_size, transform=transform\n",
    "    )\n",
    "\n",
    "    # 2) Model\n",
    "    net = MLP()\n",
    "\n",
    "    # 3) Train （確保 train 支援 mode=\"step_reduce\" 與 processes）\n",
    "    train_loss, train_acc, valid_loss, valid_acc = multicore_train(\n",
    "        net, trainldr, validldr,\n",
    "        epochs=cfg[\"epochs\"], lr=cfg[\"lr\"],\n",
    "        mode=\"step_reduce\",\n",
    "        processes=per_config_cores,\n",
    "        global_batch_size=global_batch_size,\n",
    "        start_method=start_method\n",
    "    )\n",
    "\n",
    "    # 4) Test\n",
    "    test_loss, test_acc = evaluate(net, testldr)\n",
    "\n",
    "    return {\n",
    "        \"config\": {\"epochs\": cfg[\"epochs\"], \"lr\": cfg[\"lr\"], \"mode\": \"step_reduce\",\n",
    "                   \"cores\": per_config_cores},\n",
    "        \"train_loss\": list(map(float, train_loss)),\n",
    "        \"train_acc\":  list(map(float, train_acc)),\n",
    "        \"valid_loss\": list(map(float, valid_loss)),\n",
    "        \"valid_acc\":  list(map(float, valid_acc)),\n",
    "        \"test_loss\": float(test_loss),\n",
    "        \"test_acc\":  float(test_acc),\n",
    "    }\n",
    "\n",
    "def run_many_configs_in_parallel(configs,\n",
    "                                 data_root=\".\",\n",
    "                                 batch_size=128,\n",
    "                                 global_batch_size=256,\n",
    "                                 per_config_cores=5,\n",
    "                                 start_method=\"fork\",\n",
    "                                 save_dir=\"results_parallel\"):\n",
    "    \"\"\"\n",
    "    同時併行多組 config：\n",
    "      - 每個 config 由一個外層進程執行 run_config_with_multicores（內部再用 per_config_cores）\n",
    "      - 外層進程數 = floor(CPU / per_config_cores)，自動限流避免塞爆機器\n",
    "      - 全部完成後輸出 Overlay 圖與 Summary 長條圖（test_acc）\n",
    "\n",
    "    回傳：results（每組 config 的完整結果）\n",
    "    \"\"\"\n",
    "    os.makedirs(save_dir, exist_ok=True)\n",
    "\n",
    "    cpu_total = (os.cpu_count() or 1)\n",
    "    max_parallel = max(1, cpu_total // max(1, per_config_cores))\n",
    "    print(f\"[Scheduler] CPU={cpu_total} | per-config cores={per_config_cores} \"\n",
    "          f\"→ max_parallel_configs={max_parallel}\")\n",
    "\n",
    "    ctx = mp.get_context(start_method)\n",
    "    results = []\n",
    "\n",
    "    with ProcessPoolExecutor(max_workers=max_parallel, mp_context=ctx) as ex:\n",
    "        futures = []\n",
    "        for cfg in configs:\n",
    "            fut = ex.submit(\n",
    "                run_config_with_multicores,\n",
    "                cfg, data_root, batch_size, global_batch_size, per_config_cores, start_method\n",
    "            )\n",
    "            futures.append(fut)\n",
    "\n",
    "        for fut in as_completed(futures):\n",
    "            res = fut.result()\n",
    "            cfg = res[\"config\"]\n",
    "            print(f\"Finished: ep={cfg['epochs']}, lr={cfg['lr']}, \"\n",
    "                  f\"cores={cfg['cores']}, test_acc={res['test_acc']:.4f}\")\n",
    "            results.append(res)\n",
    "    # ---- Overlay: Loss, Accuracy ----\n",
    "    plot_overlay(results, save_prefix=os.path.join(save_dir, \"\"))\n",
    "        # ---- Save CSV ----\n",
    "    save_summary_csv(os.path.join(save_dir, \"results_summary.csv\"), [\n",
    "        {\n",
    "            \"run_id\": i+1,\n",
    "            \"epochs\": r[\"config\"][\"epochs\"],\n",
    "            \"lr\": r[\"config\"][\"lr\"],\n",
    "            \"mode\": r[\"config\"][\"mode\"],\n",
    "            \"final_train_loss\": r[\"train_loss\"][-1],\n",
    "            \"final_train_acc\": r[\"train_acc\"][-1],\n",
    "            \"final_valid_loss\": r[\"valid_loss\"][-1],\n",
    "            \"final_valid_acc\": r[\"valid_acc\"][-1],\n",
    "            \"test_loss\": r[\"test_loss\"],\n",
    "            \"test_acc\": r[\"test_acc\"]\n",
    "        } for i, r in enumerate(results)\n",
    "    ])\n",
    "    save_history_csv(os.path.join(save_dir, \"results_history.csv\"), [\n",
    "        {\n",
    "            \"run_id\": i+1,\n",
    "            \"epochs\": r[\"config\"][\"epochs\"],\n",
    "            \"lr\": r[\"config\"][\"lr\"],\n",
    "            \"mode\": r[\"config\"][\"mode\"],\n",
    "            \"history\": [\n",
    "                {\n",
    "                    \"epoch\": ei+1,\n",
    "                    \"train_loss\": float(r[\"train_loss\"][ei]),\n",
    "                    \"train_acc\": float(r[\"train_acc\"][ei]),\n",
    "                    \"valid_loss\": float(r[\"valid_loss\"][ei]),\n",
    "                    \"valid_acc\": float(r[\"valid_acc\"][ei])\n",
    "                } for ei in range(len(r[\"train_loss\"]))\n",
    "            ]\n",
    "        } for i, r in enumerate(results)\n",
    "    ])\n",
    "    return results"
   ]
  },
  {
   "cell_type": "markdown",
   "metadata": {},
   "source": [
    "## 5. 多組超參數的訓練"
   ]
  },
  {
   "cell_type": "code",
   "execution_count": 21,
   "metadata": {},
   "outputs": [
    {
     "name": "stdout",
     "output_type": "stream",
     "text": [
      "[Scheduler] CPU=32 | per-config cores=5 → max_parallel_configs=6\n",
      "epoch 0: train_loss = 20.410026600502515, train_acc = 0.15851851851851853\n"
     ]
    },
    {
     "name": "stderr",
     "output_type": "stream",
     "text": [
      " 91%|█████████▏| 43/47 [00:27<00:02,  1.87it/s]"
     ]
    },
    {
     "name": "stdout",
     "output_type": "stream",
     "text": [
      "epoch 0: train_loss = 49.72163888182524, train_acc = 0.13307407407407407\n"
     ]
    },
    {
     "name": "stderr",
     "output_type": "stream",
     "text": [
      "100%|██████████| 47/47 [00:29<00:00,  1.58it/s]\n",
      "  6%|▋         | 3/47 [00:01<00:27,  1.62it/s]"
     ]
    },
    {
     "name": "stdout",
     "output_type": "stream",
     "text": [
      "epoch 0: valid_loss = 3.6498228913115365, valid_acc = 0.20583333333333334\n",
      "\n"
     ]
    },
    {
     "name": "stderr",
     "output_type": "stream",
     "text": [
      "  9%|▊         | 4/47 [00:02<00:26,  1.60it/s]"
     ]
    },
    {
     "name": "stdout",
     "output_type": "stream",
     "text": [
      "epoch 0: train_loss = 31.934841879688474, train_acc = 0.14162962962962963\n"
     ]
    },
    {
     "name": "stderr",
     "output_type": "stream",
     "text": [
      " 30%|██▉       | 14/47 [00:06<00:14,  2.32it/s]"
     ]
    },
    {
     "name": "stdout",
     "output_type": "stream",
     "text": [
      "epoch 0: train_loss = 31.934841879688474, train_acc = 0.14162962962962963\n"
     ]
    },
    {
     "name": "stderr",
     "output_type": "stream",
     "text": [
      " 38%|███▊      | 18/47 [00:09<00:15,  1.89it/s]"
     ]
    },
    {
     "name": "stdout",
     "output_type": "stream",
     "text": [
      "epoch 0: train_loss = 49.72163888182524, train_acc = 0.13307407407407407\n"
     ]
    },
    {
     "name": "stderr",
     "output_type": "stream",
     "text": [
      " 13%|█▎        | 6/47 [00:03<00:20,  2.04it/s]]"
     ]
    },
    {
     "name": "stdout",
     "output_type": "stream",
     "text": [
      "epoch 0: train_loss = 20.410026600502515, train_acc = 0.15851851851851853\n"
     ]
    },
    {
     "name": "stderr",
     "output_type": "stream",
     "text": [
      "100%|██████████| 47/47 [00:22<00:00,  2.09it/s]\n",
      " 87%|████████▋ | 41/47 [00:19<00:02,  2.30it/s]"
     ]
    },
    {
     "name": "stdout",
     "output_type": "stream",
     "text": [
      "epoch 0: valid_loss = 22.987408190334367, valid_acc = 0.13183333333333333\n",
      "\n"
     ]
    },
    {
     "name": "stderr",
     "output_type": "stream",
     "text": [
      "100%|██████████| 47/47 [00:22<00:00,  2.10it/s]\n",
      " 79%|███████▊  | 37/47 [00:17<00:04,  2.27it/s]"
     ]
    },
    {
     "name": "stdout",
     "output_type": "stream",
     "text": [
      "epoch 0: valid_loss = 6.49236216149471, valid_acc = 0.15383333333333332\n",
      "\n"
     ]
    },
    {
     "name": "stderr",
     "output_type": "stream",
     "text": [
      "100%|██████████| 47/47 [00:21<00:00,  2.15it/s]\n"
     ]
    },
    {
     "name": "stdout",
     "output_type": "stream",
     "text": [
      "epoch 0: valid_loss = 6.49236216149471, valid_acc = 0.15383333333333332\n",
      "\n"
     ]
    },
    {
     "name": "stderr",
     "output_type": "stream",
     "text": [
      "100%|██████████| 47/47 [00:20<00:00,  2.31it/s]\n"
     ]
    },
    {
     "name": "stdout",
     "output_type": "stream",
     "text": [
      "epoch 0: valid_loss = 22.987408190334367, valid_acc = 0.13183333333333333\n",
      "\n"
     ]
    },
    {
     "name": "stderr",
     "output_type": "stream",
     "text": [
      "100%|██████████| 47/47 [00:19<00:00,  2.45it/s]\n"
     ]
    },
    {
     "name": "stdout",
     "output_type": "stream",
     "text": [
      "epoch 0: valid_loss = 3.6498228913115365, valid_acc = 0.20583333333333334\n",
      "\n",
      "epoch 1: train_loss = 6.4462701561575395, train_acc = 0.2873888888888889\n"
     ]
    },
    {
     "name": "stderr",
     "output_type": "stream",
     "text": [
      "100%|██████████| 47/47 [00:30<00:00,  1.53it/s]\n"
     ]
    },
    {
     "name": "stdout",
     "output_type": "stream",
     "text": [
      "epoch 1: valid_loss = 2.920358637655711, valid_acc = 0.36466666666666664\n",
      "\n",
      "epoch 1: train_loss = 8.834992162430485, train_acc = 0.17659259259259258\n"
     ]
    },
    {
     "name": "stderr",
     "output_type": "stream",
     "text": [
      " 40%|████      | 19/47 [00:11<00:15,  1.80it/s]"
     ]
    },
    {
     "name": "stdout",
     "output_type": "stream",
     "text": [
      "epoch 1: train_loss = 8.834992162430485, train_acc = 0.17659259259259258\n"
     ]
    },
    {
     "name": "stderr",
     "output_type": "stream",
     "text": [
      " 43%|████▎     | 20/47 [00:11<00:14,  1.88it/s]"
     ]
    },
    {
     "name": "stdout",
     "output_type": "stream",
     "text": [
      "epoch 1: train_loss = 6.4462701561575395, train_acc = 0.2873888888888889\n"
     ]
    },
    {
     "name": "stderr",
     "output_type": "stream",
     "text": [
      "  2%|▏         | 1/47 [00:00<00:30,  1.49it/s]]"
     ]
    },
    {
     "name": "stdout",
     "output_type": "stream",
     "text": [
      "epoch 1: train_loss = 40.893600018669524, train_acc = 0.13644444444444445\n"
     ]
    },
    {
     "name": "stderr",
     "output_type": "stream",
     "text": [
      "  4%|▍         | 2/47 [00:01<00:25,  1.75it/s]"
     ]
    },
    {
     "name": "stdout",
     "output_type": "stream",
     "text": [
      "epoch 1: train_loss = 40.893600018669524, train_acc = 0.13644444444444445\n"
     ]
    },
    {
     "name": "stderr",
     "output_type": "stream",
     "text": [
      " 53%|█████▎    | 25/47 [00:11<00:09,  2.41it/s]\n"
     ]
    },
    {
     "name": "stdout",
     "output_type": "stream",
     "text": [
      "epoch 1: valid_loss = 3.6500709685501382, valid_acc = 0.206\n",
      "\n"
     ]
    },
    {
     "name": "stderr",
     "output_type": "stream",
     "text": [
      "100%|██████████| 47/47 [00:21<00:00,  2.20it/s]\n"
     ]
    },
    {
     "name": "stdout",
     "output_type": "stream",
     "text": [
      "epoch 1: valid_loss = 2.920358637655711, valid_acc = 0.36466666666666664\n"
     ]
    },
    {
     "name": "stderr",
     "output_type": "stream",
     "text": [
      "\n"
     ]
    },
    {
     "name": "stdout",
     "output_type": "stream",
     "text": [
      "epoch 1: valid_loss = 3.6500709685501382, valid_acc = 0.206\n",
      "\n",
      "\n"
     ]
    },
    {
     "name": "stderr",
     "output_type": "stream",
     "text": [
      "100%|██████████| 47/47 [00:20<00:00,  2.29it/s]\n"
     ]
    },
    {
     "name": "stdout",
     "output_type": "stream",
     "text": [
      "epoch 1: valid_loss = 18.003084764139153, valid_acc = 0.136\n",
      "\n"
     ]
    },
    {
     "name": "stderr",
     "output_type": "stream",
     "text": [
      "100%|██████████| 47/47 [00:21<00:00,  2.17it/s]\n"
     ]
    },
    {
     "name": "stdout",
     "output_type": "stream",
     "text": [
      "epoch 1: valid_loss = 18.003084764139153, valid_acc = 0.136\n",
      "\n",
      "epoch 2: train_loss = 5.480789732741185, train_acc = 0.4191666666666667\n"
     ]
    },
    {
     "name": "stderr",
     "output_type": "stream",
     "text": [
      "100%|██████████| 47/47 [00:26<00:00,  1.80it/s]\n"
     ]
    },
    {
     "name": "stdout",
     "output_type": "stream",
     "text": [
      "epoch 2: valid_loss = 2.5853534898457204, valid_acc = 0.46216666666666667\n",
      "\n",
      "epoch 2: train_loss = 6.787830687068944, train_acc = 0.24725925925925926\n"
     ]
    },
    {
     "name": "stderr",
     "output_type": "stream",
     "text": [
      " 68%|██████▊   | 32/47 [00:20<00:11,  1.33it/s]"
     ]
    },
    {
     "name": "stdout",
     "output_type": "stream",
     "text": [
      "epoch 2: train_loss = 5.480789732741185, train_acc = 0.4191666666666667\n"
     ]
    },
    {
     "name": "stderr",
     "output_type": "stream",
     "text": [
      " 30%|██▉       | 14/47 [00:08<00:18,  1.77it/s]\n"
     ]
    },
    {
     "name": "stdout",
     "output_type": "stream",
     "text": [
      "epoch 2: valid_loss = 3.1908629669678077, valid_acc = 0.287\n",
      "\n"
     ]
    },
    {
     "name": "stderr",
     "output_type": "stream",
     "text": [
      " 38%|███▊      | 18/47 [00:10<00:16,  1.79it/s]"
     ]
    },
    {
     "name": "stdout",
     "output_type": "stream",
     "text": [
      "epoch 2: train_loss = 30.977536189805463, train_acc = 0.14066666666666666\n"
     ]
    },
    {
     "name": "stderr",
     "output_type": "stream",
     "text": [
      " 51%|█████     | 24/47 [00:12<00:10,  2.18it/s]"
     ]
    },
    {
     "name": "stdout",
     "output_type": "stream",
     "text": [
      "epoch 2: train_loss = 30.977536189805463, train_acc = 0.14066666666666666\n"
     ]
    },
    {
     "name": "stderr",
     "output_type": "stream",
     "text": [
      " 55%|█████▌    | 26/47 [00:13<00:09,  2.20it/s]"
     ]
    },
    {
     "name": "stdout",
     "output_type": "stream",
     "text": [
      "epoch 2: train_loss = 6.787830687068944, train_acc = 0.24725925925925926\n"
     ]
    },
    {
     "name": "stderr",
     "output_type": "stream",
     "text": [
      "100%|██████████| 47/47 [00:23<00:00,  2.04it/s]\n"
     ]
    },
    {
     "name": "stdout",
     "output_type": "stream",
     "text": [
      "epoch 2: valid_loss = 2.5853534898457204, valid_acc = 0.46216666666666667\n",
      "\n"
     ]
    },
    {
     "name": "stderr",
     "output_type": "stream",
     "text": [
      "100%|██████████| 47/47 [00:20<00:00,  2.34it/s]\n"
     ]
    },
    {
     "name": "stdout",
     "output_type": "stream",
     "text": [
      "epoch 2: valid_loss = 13.149725707808017, valid_acc = 0.14116666666666666\n",
      "\n"
     ]
    },
    {
     "name": "stderr",
     "output_type": "stream",
     "text": [
      "100%|██████████| 47/47 [00:22<00:00,  2.13it/s]\n"
     ]
    },
    {
     "name": "stdout",
     "output_type": "stream",
     "text": [
      "epoch 2: valid_loss = 13.149725707808017, valid_acc = 0.14116666666666666\n",
      "\n"
     ]
    },
    {
     "name": "stderr",
     "output_type": "stream",
     "text": [
      "100%|██████████| 47/47 [00:23<00:00,  2.04it/s]\n"
     ]
    },
    {
     "name": "stdout",
     "output_type": "stream",
     "text": [
      "epoch 2: valid_loss = 3.1908629669678077, valid_acc = 0.287\n",
      "\n",
      "epoch 3: train_loss = 4.962387840246286, train_acc = 0.49905555555555553\n"
     ]
    },
    {
     "name": "stderr",
     "output_type": "stream",
     "text": [
      "100%|██████████| 47/47 [00:28<00:00,  1.67it/s]\n"
     ]
    },
    {
     "name": "stdout",
     "output_type": "stream",
     "text": [
      "epoch 3: valid_loss = 2.3852601495913595, valid_acc = 0.533\n",
      "\n",
      "epoch 3: train_loss = 6.099571672834226, train_acc = 0.3287962962962963\n"
     ]
    },
    {
     "name": "stderr",
     "output_type": "stream",
     "text": [
      "100%|██████████| 47/47 [00:35<00:00,  1.32it/s]\n"
     ]
    },
    {
     "name": "stdout",
     "output_type": "stream",
     "text": [
      "epoch 3: valid_loss = 2.920524669611559, valid_acc = 0.3641666666666667\n",
      "\n",
      "epoch 3: train_loss = 4.962387840246286, train_acc = 0.49905555555555553\n"
     ]
    },
    {
     "name": "stderr",
     "output_type": "stream",
     "text": [
      "  4%|▍         | 2/47 [00:01<00:32,  1.39it/s]"
     ]
    },
    {
     "name": "stdout",
     "output_type": "stream",
     "text": [
      "epoch 3: train_loss = 22.21085492161947, train_acc = 0.14562962962962964\n"
     ]
    },
    {
     "name": "stderr",
     "output_type": "stream",
     "text": [
      " 26%|██▌       | 12/47 [00:08<00:22,  1.54it/s]"
     ]
    },
    {
     "name": "stdout",
     "output_type": "stream",
     "text": [
      "epoch 3: train_loss = 22.21085492161947, train_acc = 0.14562962962962964\n"
     ]
    },
    {
     "name": "stderr",
     "output_type": "stream",
     "text": [
      " 77%|███████▋  | 36/47 [00:20<00:04,  2.25it/s]"
     ]
    },
    {
     "name": "stdout",
     "output_type": "stream",
     "text": [
      "epoch 3: train_loss = 6.099571672834226, train_acc = 0.3287962962962963\n"
     ]
    },
    {
     "name": "stderr",
     "output_type": "stream",
     "text": [
      " 23%|██▎       | 11/47 [00:04<00:14,  2.51it/s]\n"
     ]
    },
    {
     "name": "stdout",
     "output_type": "stream",
     "text": [
      "epoch 3: valid_loss = 2.3852601495913595, valid_acc = 0.533\n",
      "\n"
     ]
    },
    {
     "name": "stderr",
     "output_type": "stream",
     "text": [
      "100%|██████████| 47/47 [00:28<00:00,  1.67it/s]\n"
     ]
    },
    {
     "name": "stdout",
     "output_type": "stream",
     "text": [
      "epoch 3: valid_loss = 9.258950466630338, valid_acc = 0.149\n",
      "\n"
     ]
    },
    {
     "name": "stderr",
     "output_type": "stream",
     "text": [
      "100%|██████████| 47/47 [00:22<00:00,  2.12it/s]\n"
     ]
    },
    {
     "name": "stdout",
     "output_type": "stream",
     "text": [
      "epoch 3: valid_loss = 9.258950466630338, valid_acc = 0.149\n",
      "\n"
     ]
    },
    {
     "name": "stderr",
     "output_type": "stream",
     "text": [
      "100%|██████████| 47/47 [00:19<00:00,  2.43it/s]\n"
     ]
    },
    {
     "name": "stdout",
     "output_type": "stream",
     "text": [
      "epoch 3: valid_loss = 2.920524669611559, valid_acc = 0.3641666666666667\n",
      "\n",
      "epoch 4: train_loss = 4.6392375515714726, train_acc = 0.5597592592592593\n"
     ]
    },
    {
     "name": "stderr",
     "output_type": "stream",
     "text": [
      "100%|██████████| 47/47 [00:29<00:00,  1.61it/s]\n"
     ]
    },
    {
     "name": "stdout",
     "output_type": "stream",
     "text": [
      "epoch 4: valid_loss = 2.255073034994529, valid_acc = 0.5838333333333333\n",
      "\n",
      "epoch 4: train_loss = 5.6460084416250425, train_acc = 0.3947777777777778\n"
     ]
    },
    {
     "name": "stderr",
     "output_type": "stream",
     "text": [
      "100%|██████████| 47/47 [00:30<00:00,  1.55it/s]\n"
     ]
    },
    {
     "name": "stdout",
     "output_type": "stream",
     "text": [
      "epoch 4: valid_loss = 2.7292209578952336, valid_acc = 0.4191666666666667\n",
      "\n",
      "epoch 4: train_loss = 15.457123017182642, train_acc = 0.15066666666666667\n"
     ]
    },
    {
     "name": "stderr",
     "output_type": "stream",
     "text": [
      " 64%|██████▍   | 30/47 [00:18<00:11,  1.54it/s]"
     ]
    },
    {
     "name": "stdout",
     "output_type": "stream",
     "text": [
      "epoch 4: train_loss = 4.6392375515714726, train_acc = 0.5597592592592593\n"
     ]
    },
    {
     "name": "stderr",
     "output_type": "stream",
     "text": [
      " 72%|███████▏  | 34/47 [00:21<00:08,  1.49it/s]"
     ]
    },
    {
     "name": "stdout",
     "output_type": "stream",
     "text": [
      "epoch 4: train_loss = 5.6460084416250425, train_acc = 0.3947777777777778\n"
     ]
    },
    {
     "name": "stderr",
     "output_type": "stream",
     "text": [
      " 21%|██▏       | 10/47 [00:05<00:18,  2.02it/s]"
     ]
    },
    {
     "name": "stdout",
     "output_type": "stream",
     "text": [
      "epoch 4: train_loss = 15.457123017182642, train_acc = 0.15066666666666667\n"
     ]
    },
    {
     "name": "stderr",
     "output_type": "stream",
     "text": [
      "100%|██████████| 47/47 [00:27<00:00,  1.68it/s]\n"
     ]
    },
    {
     "name": "stdout",
     "output_type": "stream",
     "text": [
      "epoch 4: valid_loss = 6.492542704695167, valid_acc = 0.15366666666666667\n",
      "\n"
     ]
    },
    {
     "name": "stderr",
     "output_type": "stream",
     "text": [
      "100%|██████████| 47/47 [00:22<00:00,  2.09it/s]\n"
     ]
    },
    {
     "name": "stdout",
     "output_type": "stream",
     "text": [
      "epoch 4: valid_loss = 2.255073034994529, valid_acc = 0.5838333333333333\n",
      "\n"
     ]
    },
    {
     "name": "stderr",
     "output_type": "stream",
     "text": [
      "100%|██████████| 47/47 [00:23<00:00,  2.02it/s]\n"
     ]
    },
    {
     "name": "stdout",
     "output_type": "stream",
     "text": [
      "epoch 4: valid_loss = 2.7292209578952336, valid_acc = 0.4191666666666667\n",
      "\n"
     ]
    },
    {
     "name": "stderr",
     "output_type": "stream",
     "text": [
      "100%|██████████| 47/47 [00:21<00:00,  2.17it/s]\n"
     ]
    },
    {
     "name": "stdout",
     "output_type": "stream",
     "text": [
      "epoch 4: valid_loss = 6.492542704695167, valid_acc = 0.15366666666666667\n",
      "\n",
      "epoch 5: train_loss = 4.422006869366166, train_acc = 0.6077407407407407\n"
     ]
    },
    {
     "name": "stderr",
     "output_type": "stream",
     "text": [
      "100%|██████████| 47/47 [00:32<00:00,  1.47it/s]\n"
     ]
    },
    {
     "name": "stdout",
     "output_type": "stream",
     "text": [
      "epoch 5: valid_loss = 2.164079335830162, valid_acc = 0.6218333333333333\n",
      "\n",
      "epoch 5: train_loss = 5.314705004205242, train_acc = 0.44353703703703706\n"
     ]
    },
    {
     "name": "stderr",
     "output_type": "stream",
     "text": [
      "100%|██████████| 47/47 [00:31<00:00,  1.51it/s]\n"
     ]
    },
    {
     "name": "stdout",
     "output_type": "stream",
     "text": [
      "epoch 5: valid_loss = 2.585495299787749, valid_acc = 0.4618333333333333\n",
      "\n",
      "epoch 5: train_loss = 4.422006869366166, train_acc = 0.6077407407407407\n"
     ]
    },
    {
     "name": "stderr",
     "output_type": "stream",
     "text": [
      " 21%|██▏       | 10/47 [00:07<00:27,  1.35it/s]"
     ]
    },
    {
     "name": "stdout",
     "output_type": "stream",
     "text": [
      "epoch 5: train_loss = 11.418538839784786, train_acc = 0.1570925925925926\n"
     ]
    },
    {
     "name": "stderr",
     "output_type": "stream",
     "text": [
      " 79%|███████▊  | 37/47 [00:23<00:05,  1.93it/s]"
     ]
    },
    {
     "name": "stdout",
     "output_type": "stream",
     "text": [
      "epoch 5: train_loss = 11.418538839784786, train_acc = 0.1570925925925926\n"
     ]
    },
    {
     "name": "stderr",
     "output_type": "stream",
     "text": [
      " 89%|████████▉ | 42/47 [00:26<00:02,  2.04it/s]"
     ]
    },
    {
     "name": "stdout",
     "output_type": "stream",
     "text": [
      "epoch 5: train_loss = 5.314705004205242, train_acc = 0.44353703703703706\n"
     ]
    },
    {
     "name": "stderr",
     "output_type": "stream",
     "text": [
      "100%|██████████| 47/47 [00:28<00:00,  1.65it/s]\n"
     ]
    },
    {
     "name": "stdout",
     "output_type": "stream",
     "text": [
      "epoch 5: valid_loss = 2.164079335830162, valid_acc = 0.6218333333333333\n",
      "\n"
     ]
    },
    {
     "name": "stderr",
     "output_type": "stream",
     "text": [
      "100%|██████████| 47/47 [00:23<00:00,  1.97it/s]\n"
     ]
    },
    {
     "name": "stdout",
     "output_type": "stream",
     "text": [
      "epoch 5: valid_loss = 5.084556103172512, valid_acc = 0.161\n",
      "\n"
     ]
    },
    {
     "name": "stderr",
     "output_type": "stream",
     "text": [
      "100%|██████████| 47/47 [00:22<00:00,  2.09it/s]\n"
     ]
    },
    {
     "name": "stdout",
     "output_type": "stream",
     "text": [
      "epoch 5: valid_loss = 5.084556103172512, valid_acc = 0.161\n",
      "\n"
     ]
    },
    {
     "name": "stderr",
     "output_type": "stream",
     "text": [
      "100%|██████████| 47/47 [00:22<00:00,  2.05it/s]\n"
     ]
    },
    {
     "name": "stdout",
     "output_type": "stream",
     "text": [
      "epoch 5: valid_loss = 2.585495299787749, valid_acc = 0.4618333333333333\n",
      "\n",
      "epoch 6: train_loss = 4.264379198947279, train_acc = 0.6400185185185185\n"
     ]
    },
    {
     "name": "stderr",
     "output_type": "stream",
     "text": [
      "100%|██████████| 47/47 [00:31<00:00,  1.49it/s]\n"
     ]
    },
    {
     "name": "stdout",
     "output_type": "stream",
     "text": [
      "epoch 6: valid_loss = 2.095074992078723, valid_acc = 0.6495\n",
      "\n",
      "epoch 6: train_loss = 5.061540638524582, train_acc = 0.48305555555555557\n"
     ]
    },
    {
     "name": "stderr",
     "output_type": "stream",
     "text": [
      "100%|██████████| 47/47 [00:27<00:00,  1.71it/s]\n"
     ]
    },
    {
     "name": "stdout",
     "output_type": "stream",
     "text": [
      "epoch 6: valid_loss = 2.4739034127251074, valid_acc = 0.501\n",
      "\n",
      "epoch 6: train_loss = 4.264379198947279, train_acc = 0.6400185185185185\n"
     ]
    },
    {
     "name": "stderr",
     "output_type": "stream",
     "text": [
      " 53%|█████▎    | 25/47 [00:18<00:16,  1.36it/s]"
     ]
    },
    {
     "name": "stdout",
     "output_type": "stream",
     "text": [
      "epoch 6: train_loss = 9.32374326110944, train_acc = 0.16474074074074074\n"
     ]
    },
    {
     "name": "stderr",
     "output_type": "stream",
     "text": [
      "  4%|▍         | 2/47 [00:01<00:31,  1.45it/s]]"
     ]
    },
    {
     "name": "stdout",
     "output_type": "stream",
     "text": [
      "epoch 6: train_loss = 9.32374326110944, train_acc = 0.16474074074074074\n"
     ]
    },
    {
     "name": "stderr",
     "output_type": "stream",
     "text": [
      " 15%|█▍        | 7/47 [00:03<00:20,  1.94it/s]]"
     ]
    },
    {
     "name": "stdout",
     "output_type": "stream",
     "text": [
      "epoch 6: train_loss = 5.061540638524582, train_acc = 0.48305555555555557"
     ]
    },
    {
     "name": "stderr",
     "output_type": "stream",
     "text": [
      " 79%|███████▊  | 37/47 [00:24<00:04,  2.04it/s]"
     ]
    },
    {
     "name": "stdout",
     "output_type": "stream",
     "text": [
      "\n"
     ]
    },
    {
     "name": "stderr",
     "output_type": "stream",
     "text": [
      " 47%|████▋     | 22/47 [00:10<00:10,  2.28it/s]\n",
      " 21%|██▏       | 10/47 [00:04<00:17,  2.11it/s]"
     ]
    },
    {
     "name": "stdout",
     "output_type": "stream",
     "text": [
      "epoch 6: valid_loss = 2.095074992078723, valid_acc = 0.6495\n",
      "\n"
     ]
    },
    {
     "name": "stderr",
     "output_type": "stream",
     "text": [
      "100%|██████████| 47/47 [00:22<00:00,  2.12it/s]\n",
      " 89%|████████▉ | 42/47 [00:20<00:02,  1.90it/s]"
     ]
    },
    {
     "name": "stdout",
     "output_type": "stream",
     "text": [
      "epoch 6: valid_loss = 4.363205913873962, valid_acc = 0.17\n",
      "\n"
     ]
    },
    {
     "name": "stderr",
     "output_type": "stream",
     "text": [
      "100%|██████████| 47/47 [00:22<00:00,  2.07it/s]\n"
     ]
    },
    {
     "name": "stdout",
     "output_type": "stream",
     "text": [
      "epoch 6: valid_loss = 4.363205913873962, valid_acc = 0.17\n",
      "\n"
     ]
    },
    {
     "name": "stderr",
     "output_type": "stream",
     "text": [
      "100%|██████████| 47/47 [00:21<00:00,  2.17it/s]\n"
     ]
    },
    {
     "name": "stdout",
     "output_type": "stream",
     "text": [
      "epoch 6: valid_loss = 2.4739034127251074, valid_acc = 0.501\n",
      "\n",
      "epoch 7: train_loss = 4.139920859621875, train_acc = 0.6600370370370371\n"
     ]
    },
    {
     "name": "stderr",
     "output_type": "stream",
     "text": [
      "100%|██████████| 47/47 [00:26<00:00,  1.75it/s]\n"
     ]
    },
    {
     "name": "stdout",
     "output_type": "stream",
     "text": [
      "epoch 7: valid_loss = 2.0381313644707424, valid_acc = 0.6676666666666666\n",
      "\n",
      "epoch 7: train_loss = 4.862839717166766, train_acc = 0.5163518518518518\n"
     ]
    },
    {
     "name": "stderr",
     "output_type": "stream",
     "text": [
      "100%|██████████| 47/47 [00:28<00:00,  1.62it/s]\n"
     ]
    },
    {
     "name": "stdout",
     "output_type": "stream",
     "text": [
      "epoch 7: valid_loss = 2.385364887601866, valid_acc = 0.5333333333333333\n",
      "\n",
      "epoch 7: train_loss = 4.139920859621875, train_acc = 0.6600370370370371\n"
     ]
    },
    {
     "name": "stderr",
     "output_type": "stream",
     "text": [
      " 28%|██▊       | 13/47 [00:09<00:25,  1.32it/s]"
     ]
    },
    {
     "name": "stdout",
     "output_type": "stream",
     "text": [
      "epoch 7: train_loss = 4.862839717166766, train_acc = 0.5163518518518518\n"
     ]
    },
    {
     "name": "stderr",
     "output_type": "stream",
     "text": [
      " 34%|███▍      | 16/47 [00:09<00:15,  2.02it/s]"
     ]
    },
    {
     "name": "stdout",
     "output_type": "stream",
     "text": [
      "epoch 7: train_loss = 8.34407776968287, train_acc = 0.17451851851851852\n"
     ]
    },
    {
     "name": "stderr",
     "output_type": "stream",
     "text": [
      " 74%|███████▍  | 35/47 [00:22<00:06,  1.96it/s]"
     ]
    },
    {
     "name": "stdout",
     "output_type": "stream",
     "text": [
      "epoch 7: train_loss = 8.34407776968287, train_acc = 0.17451851851851852"
     ]
    },
    {
     "name": "stderr",
     "output_type": "stream",
     "text": [
      " 49%|████▉     | 23/47 [00:12<00:12,  1.92it/s]"
     ]
    },
    {
     "name": "stdout",
     "output_type": "stream",
     "text": [
      "\n"
     ]
    },
    {
     "name": "stderr",
     "output_type": "stream",
     "text": [
      "100%|██████████| 47/47 [00:27<00:00,  1.72it/s]\n"
     ]
    },
    {
     "name": "stdout",
     "output_type": "stream",
     "text": [
      "epoch 7: valid_loss = 2.0381313644707424, valid_acc = 0.6676666666666666\n",
      "\n"
     ]
    },
    {
     "name": "stderr",
     "output_type": "stream",
     "text": [
      "100%|██████████| 47/47 [00:24<00:00,  1.95it/s]\n"
     ]
    },
    {
     "name": "stdout",
     "output_type": "stream",
     "text": [
      "epoch 7: valid_loss = 2.385364887601866, valid_acc = 0.5333333333333333\n",
      "\n"
     ]
    },
    {
     "name": "stderr",
     "output_type": "stream",
     "text": [
      "100%|██████████| 47/47 [00:24<00:00,  1.95it/s]\n"
     ]
    },
    {
     "name": "stdout",
     "output_type": "stream",
     "text": [
      "epoch 7: valid_loss = 3.99631494874458, valid_acc = 0.17966666666666667\n",
      "\n"
     ]
    },
    {
     "name": "stderr",
     "output_type": "stream",
     "text": [
      "100%|██████████| 47/47 [00:22<00:00,  2.12it/s]\n"
     ]
    },
    {
     "name": "stdout",
     "output_type": "stream",
     "text": [
      "epoch 7: valid_loss = 3.99631494874458, valid_acc = 0.17966666666666667\n",
      "\n",
      "epoch 8: train_loss = 4.033405870473334, train_acc = 0.6727592592592593\n"
     ]
    },
    {
     "name": "stderr",
     "output_type": "stream",
     "text": [
      "100%|██████████| 47/47 [00:36<00:00,  1.29it/s]\n"
     ]
    },
    {
     "name": "stdout",
     "output_type": "stream",
     "text": [
      "epoch 8: valid_loss = 1.9875736870816467, valid_acc = 0.6788333333333333\n",
      "\n",
      "epoch 8: train_loss = 4.703847268845826, train_acc = 0.5462037037037037\n"
     ]
    },
    {
     "name": "stderr",
     "output_type": "stream",
     "text": [
      "100%|██████████| 47/47 [00:29<00:00,  1.61it/s]\n"
     ]
    },
    {
     "name": "stdout",
     "output_type": "stream",
     "text": [
      "epoch 8: valid_loss = 2.3138671550673355, valid_acc = 0.5595\n",
      "\n",
      "epoch 8: train_loss = 4.033405870473334, train_acc = 0.6727592592592593\n"
     ]
    },
    {
     "name": "stderr",
     "output_type": "stream",
     "text": [
      " 70%|███████   | 33/47 [00:22<00:09,  1.45it/s]"
     ]
    },
    {
     "name": "stdout",
     "output_type": "stream",
     "text": [
      "epoch 8: train_loss = 4.703847268845826, train_acc = 0.5462037037037037\n"
     ]
    },
    {
     "name": "stderr",
     "output_type": "stream",
     "text": [
      "100%|██████████| 47/47 [00:30<00:00,  1.53it/s]\n"
     ]
    },
    {
     "name": "stdout",
     "output_type": "stream",
     "text": [
      "epoch 8: valid_loss = 1.9875736870816467, valid_acc = 0.6788333333333333\n",
      "\n"
     ]
    },
    {
     "name": "stderr",
     "output_type": "stream",
     "text": [
      " 38%|███▊      | 18/47 [00:11<00:18,  1.59it/s]"
     ]
    },
    {
     "name": "stdout",
     "output_type": "stream",
     "text": [
      "epoch 8: train_loss = 7.803027898768157, train_acc = 0.18625925925925926\n"
     ]
    },
    {
     "name": "stderr",
     "output_type": "stream",
     "text": [
      " 64%|██████▍   | 30/47 [00:17<00:08,  2.12it/s]"
     ]
    },
    {
     "name": "stdout",
     "output_type": "stream",
     "text": [
      "epoch 8: train_loss = 7.803027898768157, train_acc = 0.18625925925925926\n"
     ]
    },
    {
     "name": "stderr",
     "output_type": "stream",
     "text": [
      "100%|██████████| 47/47 [00:27<00:00,  1.73it/s]\n"
     ]
    },
    {
     "name": "stdout",
     "output_type": "stream",
     "text": [
      "epoch 8: valid_loss = 2.3138671550673355, valid_acc = 0.5595\n",
      "\n"
     ]
    },
    {
     "name": "stderr",
     "output_type": "stream",
     "text": [
      "100%|██████████| 47/47 [00:23<00:00,  1.98it/s]\n"
     ]
    },
    {
     "name": "stdout",
     "output_type": "stream",
     "text": [
      "epoch 8: valid_loss = 3.793515862904652, valid_acc = 0.19266666666666668\n",
      "\n"
     ]
    },
    {
     "name": "stderr",
     "output_type": "stream",
     "text": [
      "100%|██████████| 47/47 [00:26<00:00,  1.74it/s]\n"
     ]
    },
    {
     "name": "stdout",
     "output_type": "stream",
     "text": [
      "epoch 8: valid_loss = 3.793515862904652, valid_acc = 0.19266666666666668\n",
      "\n",
      "epoch 9: train_loss = 3.9362375312904234, train_acc = 0.6809444444444445\n"
     ]
    },
    {
     "name": "stderr",
     "output_type": "stream",
     "text": [
      "100%|██████████| 47/47 [00:23<00:00,  2.04it/s]\n"
     ]
    },
    {
     "name": "stdout",
     "output_type": "stream",
     "text": [
      "epoch 9: valid_loss = 1.94023863296407, valid_acc = 0.6885\n",
      "\n",
      "epoch 9: train_loss = 4.574425208890524, train_acc = 0.5745\n"
     ]
    },
    {
     "name": "stderr",
     "output_type": "stream",
     "text": [
      "100%|██████████| 47/47 [00:29<00:00,  1.57it/s]\n"
     ]
    },
    {
     "name": "stdout",
     "output_type": "stream",
     "text": [
      "epoch 9: valid_loss = 2.2551467339588473, valid_acc = 0.5838333333333333\n",
      "\n"
     ]
    },
    {
     "name": "stderr",
     "output_type": "stream",
     "text": [
      " 86%|████████▌ | 68/79 [00:36<00:05,  1.86it/s]"
     ]
    },
    {
     "name": "stdout",
     "output_type": "stream",
     "text": [
      "epoch 9: train_loss = 3.9362375312904234, train_acc = 0.6809444444444445\n"
     ]
    },
    {
     "name": "stderr",
     "output_type": "stream",
     "text": [
      "100%|██████████| 79/79 [00:40<00:00,  1.96it/s]\n",
      " 13%|█▎        | 6/47 [00:04<00:27,  1.50it/s]"
     ]
    },
    {
     "name": "stdout",
     "output_type": "stream",
     "text": [
      "Finished: ep=10, lr=0.05, cores=5, test_acc=0.6069\n"
     ]
    },
    {
     "name": "stderr",
     "output_type": "stream",
     "text": [
      " 89%|████████▉ | 42/47 [00:23<00:02,  1.85it/s]"
     ]
    },
    {
     "name": "stdout",
     "output_type": "stream",
     "text": [
      "epoch 9: train_loss = 7.438148457659766, train_acc = 0.19966666666666666\n"
     ]
    },
    {
     "name": "stderr",
     "output_type": "stream",
     "text": [
      "100%|██████████| 47/47 [00:25<00:00,  1.82it/s]\n"
     ]
    },
    {
     "name": "stdout",
     "output_type": "stream",
     "text": [
      "epoch 9: valid_loss = 1.94023863296407, valid_acc = 0.6885\n",
      "\n"
     ]
    },
    {
     "name": "stderr",
     "output_type": "stream",
     "text": [
      " 10%|█         | 8/79 [00:03<00:30,  2.36it/s]]"
     ]
    },
    {
     "name": "stdout",
     "output_type": "stream",
     "text": [
      "epoch 9: train_loss = 4.574425208890524, train_acc = 0.5745\n"
     ]
    },
    {
     "name": "stderr",
     "output_type": "stream",
     "text": [
      " 57%|█████▋    | 27/47 [00:14<00:09,  2.11it/s]"
     ]
    },
    {
     "name": "stdout",
     "output_type": "stream",
     "text": [
      "epoch 9: train_loss = 7.438148457659766, train_acc = 0.19966666666666666\n"
     ]
    },
    {
     "name": "stderr",
     "output_type": "stream",
     "text": [
      "100%|██████████| 47/47 [00:24<00:00,  1.88it/s]\n",
      " 49%|████▉     | 39/79 [00:22<00:23,  1.72it/s]"
     ]
    },
    {
     "name": "stdout",
     "output_type": "stream",
     "text": [
      "epoch 9: valid_loss = 3.6502306188752747, valid_acc = 0.206\n",
      "\n"
     ]
    },
    {
     "name": "stderr",
     "output_type": "stream",
     "text": [
      "100%|██████████| 47/47 [00:23<00:00,  1.98it/s]\n"
     ]
    },
    {
     "name": "stdout",
     "output_type": "stream",
     "text": [
      "epoch 9: valid_loss = 2.2551467339588473, valid_acc = 0.5838333333333333\n"
     ]
    },
    {
     "name": "stderr",
     "output_type": "stream",
     "text": [
      " 62%|██████▏   | 49/79 [00:27<00:13,  2.23it/s]"
     ]
    },
    {
     "name": "stdout",
     "output_type": "stream",
     "text": [
      "\n"
     ]
    },
    {
     "name": "stderr",
     "output_type": "stream",
     "text": [
      "100%|██████████| 47/47 [00:21<00:00,  2.15it/s]\n"
     ]
    },
    {
     "name": "stdout",
     "output_type": "stream",
     "text": [
      "epoch 9: valid_loss = 3.6502306188752747, valid_acc = 0.206\n",
      "\n"
     ]
    },
    {
     "name": "stderr",
     "output_type": "stream",
     "text": [
      "100%|██████████| 79/79 [00:40<00:00,  1.94it/s]\n",
      "  1%|▏         | 1/79 [00:00<00:29,  2.60it/s]"
     ]
    },
    {
     "name": "stdout",
     "output_type": "stream",
     "text": [
      "Finished: ep=10, lr=0.1, cores=5, test_acc=0.7027\n"
     ]
    },
    {
     "name": "stderr",
     "output_type": "stream",
     "text": [
      "100%|██████████| 79/79 [00:39<00:00,  2.01it/s]\n"
     ]
    },
    {
     "name": "stdout",
     "output_type": "stream",
     "text": [
      "Finished: ep=10, lr=0.01, cores=5, test_acc=0.2154\n",
      "epoch 10: train_loss = 3.8436775891547996, train_acc = 0.6870185185185185\n"
     ]
    },
    {
     "name": "stderr",
     "output_type": "stream",
     "text": [
      "100%|██████████| 47/47 [00:29<00:00,  1.57it/s]\n"
     ]
    },
    {
     "name": "stdout",
     "output_type": "stream",
     "text": [
      "epoch 10: valid_loss = 1.8944506899067945, valid_acc = 0.6938333333333333\n",
      "\n",
      "epoch 0: train_loss = 13.5070205337832, train_acc = 0.19557407407407407\n"
     ]
    },
    {
     "name": "stderr",
     "output_type": "stream",
     "text": [
      " 85%|████████▌ | 40/47 [00:27<00:05,  1.35it/s]"
     ]
    },
    {
     "name": "stdout",
     "output_type": "stream",
     "text": [
      "epoch 10: train_loss = 4.46719830909124, train_acc = 0.5973888888888889\n"
     ]
    },
    {
     "name": "stderr",
     "output_type": "stream",
     "text": [
      " 13%|█▎        | 6/47 [00:04<00:27,  1.50it/s]]"
     ]
    },
    {
     "name": "stdout",
     "output_type": "stream",
     "text": [
      "epoch 10: train_loss = 7.168571421341561, train_acc = 0.21409259259259258\n"
     ]
    },
    {
     "name": "stderr",
     "output_type": "stream",
     "text": [
      "100%|██████████| 47/47 [00:32<00:00,  1.44it/s]\n"
     ]
    },
    {
     "name": "stdout",
     "output_type": "stream",
     "text": [
      "epoch 0: valid_loss = 3.456169781145342, valid_acc = 0.23966666666666667\n",
      "\n"
     ]
    },
    {
     "name": "stderr",
     "output_type": "stream",
     "text": [
      "100%|██████████| 47/47 [00:23<00:00,  2.00it/s]\n"
     ]
    },
    {
     "name": "stdout",
     "output_type": "stream",
     "text": [
      "epoch 10: valid_loss = 2.206027629921394, valid_acc = 0.607\n",
      "\n"
     ]
    },
    {
     "name": "stderr",
     "output_type": "stream",
     "text": [
      "100%|██████████| 47/47 [00:25<00:00,  1.86it/s]\n"
     ]
    },
    {
     "name": "stdout",
     "output_type": "stream",
     "text": [
      "epoch 10: valid_loss = 3.5268659472436443, valid_acc = 0.222\n",
      "\n",
      "epoch 0: train_loss = 18.94984640040709, train_acc = 0.17207407407407407\n"
     ]
    },
    {
     "name": "stderr",
     "output_type": "stream",
     "text": [
      "100%|██████████| 47/47 [00:26<00:00,  1.75it/s]\n"
     ]
    },
    {
     "name": "stdout",
     "output_type": "stream",
     "text": [
      "epoch 0: valid_loss = 5.205463724836414, valid_acc = 0.19083333333333333\n",
      "\n",
      "epoch 0: train_loss = 30.01433616518888, train_acc = 0.15538888888888888\n"
     ]
    },
    {
     "name": "stderr",
     "output_type": "stream",
     "text": [
      "100%|██████████| 47/47 [00:28<00:00,  1.64it/s]\n"
     ]
    },
    {
     "name": "stdout",
     "output_type": "stream",
     "text": [
      "epoch 0: valid_loss = 13.093721399892754, valid_acc = 0.152\n",
      "\n",
      "epoch 11: train_loss = 3.7532697710236054, train_acc = 0.6911481481481482\n"
     ]
    },
    {
     "name": "stderr",
     "output_type": "stream",
     "text": [
      "100%|██████████| 47/47 [00:29<00:00,  1.58it/s]\n"
     ]
    },
    {
     "name": "stdout",
     "output_type": "stream",
     "text": [
      "epoch 11: valid_loss = 1.8493463548581313, valid_acc = 0.6995\n",
      "\n",
      "epoch 1: train_loss = 6.20833300076696, train_acc = 0.3173148148148148\n"
     ]
    },
    {
     "name": "stderr",
     "output_type": "stream",
     "text": [
      " 81%|████████  | 38/47 [00:24<00:05,  1.68it/s]"
     ]
    },
    {
     "name": "stdout",
     "output_type": "stream",
     "text": [
      "epoch 11: train_loss = 6.946229556676698, train_acc = 0.2300925925925926\n"
     ]
    },
    {
     "name": "stderr",
     "output_type": "stream",
     "text": [
      "100%|██████████| 47/47 [00:30<00:00,  1.56it/s]\n"
     ]
    },
    {
     "name": "stdout",
     "output_type": "stream",
     "text": [
      "epoch 1: valid_loss = 2.84548095347978, valid_acc = 0.39316666666666666\n",
      "\n",
      "epoch 11: train_loss = 4.376663886657516, train_acc = 0.6182592592592593\n"
     ]
    },
    {
     "name": "stderr",
     "output_type": "stream",
     "text": [
      "100%|██████████| 47/47 [00:26<00:00,  1.78it/s]\n"
     ]
    },
    {
     "name": "stdout",
     "output_type": "stream",
     "text": [
      "epoch 11: valid_loss = 3.4306425989406204, valid_acc = 0.23616666666666666\n",
      "\n"
     ]
    },
    {
     "name": "stderr",
     "output_type": "stream",
     "text": [
      "100%|██████████| 47/47 [00:26<00:00,  1.78it/s]\n"
     ]
    },
    {
     "name": "stdout",
     "output_type": "stream",
     "text": [
      "epoch 11: valid_loss = 2.1641157856126116, valid_acc = 0.6226666666666667\n",
      "\n",
      "epoch 1: train_loss = 8.005223602069488, train_acc = 0.21938888888888888\n"
     ]
    },
    {
     "name": "stderr",
     "output_type": "stream",
     "text": [
      "100%|██████████| 47/47 [00:27<00:00,  1.73it/s]\n"
     ]
    },
    {
     "name": "stdout",
     "output_type": "stream",
     "text": [
      "epoch 1: valid_loss = 3.4564770625010337, valid_acc = 0.23966666666666667\n",
      "\n",
      "epoch 1: train_loss = 22.532900513284904, train_acc = 0.16427777777777777\n"
     ]
    },
    {
     "name": "stderr",
     "output_type": "stream",
     "text": [
      "100%|██████████| 47/47 [00:26<00:00,  1.75it/s]\n"
     ]
    },
    {
     "name": "stdout",
     "output_type": "stream",
     "text": [
      "epoch 1: valid_loss = 9.88429981365907, valid_acc = 0.16183333333333333\n",
      "\n",
      "epoch 12: train_loss = 3.663863759089209, train_acc = 0.6942037037037037\n"
     ]
    },
    {
     "name": "stderr",
     "output_type": "stream",
     "text": [
      "100%|██████████| 47/47 [00:29<00:00,  1.61it/s]\n"
     ]
    },
    {
     "name": "stdout",
     "output_type": "stream",
     "text": [
      "epoch 12: valid_loss = 1.8046095637420971, valid_acc = 0.704\n",
      "\n",
      "epoch 2: train_loss = 5.353548413746117, train_acc = 0.4612962962962963\n"
     ]
    },
    {
     "name": "stderr",
     "output_type": "stream",
     "text": [
      " 87%|████████▋ | 41/47 [00:24<00:03,  1.80it/s]"
     ]
    },
    {
     "name": "stdout",
     "output_type": "stream",
     "text": [
      "epoch 12: train_loss = 6.760603419147352, train_acc = 0.24707407407407408\n"
     ]
    },
    {
     "name": "stderr",
     "output_type": "stream",
     "text": [
      "  9%|▊         | 4/47 [00:02<00:28,  1.53it/s]]\n"
     ]
    },
    {
     "name": "stdout",
     "output_type": "stream",
     "text": [
      "epoch 2: valid_loss = 2.539991928891536, valid_acc = 0.5186666666666667\n",
      "\n"
     ]
    },
    {
     "name": "stderr",
     "output_type": "stream",
     "text": [
      " 49%|████▉     | 23/47 [00:13<00:14,  1.65it/s]"
     ]
    },
    {
     "name": "stdout",
     "output_type": "stream",
     "text": [
      "epoch 12: train_loss = 4.298635694113465, train_acc = 0.6336111111111111\n"
     ]
    },
    {
     "name": "stderr",
     "output_type": "stream",
     "text": [
      "100%|██████████| 47/47 [00:29<00:00,  1.58it/s]\n"
     ]
    },
    {
     "name": "stdout",
     "output_type": "stream",
     "text": [
      "epoch 12: valid_loss = 3.336563015254095, valid_acc = 0.25183333333333335\n",
      "\n"
     ]
    },
    {
     "name": "stderr",
     "output_type": "stream",
     "text": [
      "100%|██████████| 47/47 [00:26<00:00,  1.78it/s]\n"
     ]
    },
    {
     "name": "stdout",
     "output_type": "stream",
     "text": [
      "epoch 12: valid_loss = 2.1275917435907497, valid_acc = 0.637\n",
      "\n",
      "epoch 2: train_loss = 6.501361688707276, train_acc = 0.2805185185185185\n"
     ]
    },
    {
     "name": "stderr",
     "output_type": "stream",
     "text": [
      "100%|██████████| 47/47 [00:28<00:00,  1.63it/s]\n"
     ]
    },
    {
     "name": "stdout",
     "output_type": "stream",
     "text": [
      "epoch 2: valid_loss = 3.0856082104598257, valid_acc = 0.3145\n",
      "\n",
      "epoch 2: train_loss = 17.230091457497572, train_acc = 0.17251851851851852\n"
     ]
    },
    {
     "name": "stderr",
     "output_type": "stream",
     "text": [
      "100%|██████████| 47/47 [00:27<00:00,  1.69it/s]\n"
     ]
    },
    {
     "name": "stdout",
     "output_type": "stream",
     "text": [
      "epoch 2: valid_loss = 7.66578750646464, valid_acc = 0.17016666666666666\n",
      "\n",
      "epoch 13: train_loss = 3.575110822814291, train_acc = 0.6967222222222222\n"
     ]
    },
    {
     "name": "stderr",
     "output_type": "stream",
     "text": [
      "100%|██████████| 47/47 [00:31<00:00,  1.48it/s]\n"
     ]
    },
    {
     "name": "stdout",
     "output_type": "stream",
     "text": [
      "epoch 13: valid_loss = 1.76019535394769, valid_acc = 0.7066666666666667\n",
      "\n",
      "epoch 3: train_loss = 4.877939937831665, train_acc = 0.5555740740740741\n"
     ]
    },
    {
     "name": "stderr",
     "output_type": "stream",
     "text": [
      " 17%|█▋        | 8/47 [00:05<00:26,  1.48it/s]"
     ]
    },
    {
     "name": "stdout",
     "output_type": "stream",
     "text": [
      "epoch 13: train_loss = 6.599851649919121, train_acc = 0.2638333333333333\n"
     ]
    },
    {
     "name": "stderr",
     "output_type": "stream",
     "text": [
      " 83%|████████▎ | 39/47 [00:23<00:05,  1.58it/s]"
     ]
    },
    {
     "name": "stdout",
     "output_type": "stream",
     "text": [
      "epoch 13: train_loss = 4.229940297624344, train_acc = 0.646\n"
     ]
    },
    {
     "name": "stderr",
     "output_type": "stream",
     "text": [
      "100%|██████████| 47/47 [00:31<00:00,  1.48it/s]\n"
     ]
    },
    {
     "name": "stdout",
     "output_type": "stream",
     "text": [
      "epoch 3: valid_loss = 2.3558211008391816, valid_acc = 0.5893333333333334\n",
      "\n"
     ]
    },
    {
     "name": "stderr",
     "output_type": "stream",
     "text": [
      "100%|██████████| 47/47 [00:28<00:00,  1.66it/s]\n"
     ]
    },
    {
     "name": "stdout",
     "output_type": "stream",
     "text": [
      "epoch 13: valid_loss = 3.260091618557213, valid_acc = 0.2665\n",
      "\n"
     ]
    },
    {
     "name": "stderr",
     "output_type": "stream",
     "text": [
      "100%|██████████| 47/47 [00:25<00:00,  1.82it/s]\n"
     ]
    },
    {
     "name": "stdout",
     "output_type": "stream",
     "text": [
      "epoch 13: valid_loss = 2.0950770497679683, valid_acc = 0.6495\n",
      "\n",
      "epoch 3: train_loss = 5.911692460578316, train_acc = 0.3567962962962963\n"
     ]
    },
    {
     "name": "stderr",
     "output_type": "stream",
     "text": [
      "100%|██████████| 47/47 [00:31<00:00,  1.50it/s]\n"
     ]
    },
    {
     "name": "stdout",
     "output_type": "stream",
     "text": [
      "epoch 3: valid_loss = 2.845695123294467, valid_acc = 0.3928333333333333\n",
      "\n",
      "epoch 3: train_loss = 13.852123740526952, train_acc = 0.18025925925925926\n"
     ]
    },
    {
     "name": "stderr",
     "output_type": "stream",
     "text": [
      "100%|██████████| 47/47 [00:25<00:00,  1.83it/s]\n"
     ]
    },
    {
     "name": "stdout",
     "output_type": "stream",
     "text": [
      "epoch 3: valid_loss = 6.207129717810813, valid_acc = 0.18\n",
      "\n",
      "epoch 14: train_loss = 3.4870728504002404, train_acc = 0.697962962962963\n"
     ]
    },
    {
     "name": "stderr",
     "output_type": "stream",
     "text": [
      "100%|██████████| 47/47 [00:28<00:00,  1.65it/s]\n"
     ]
    },
    {
     "name": "stdout",
     "output_type": "stream",
     "text": [
      "epoch 14: valid_loss = 1.7161931720787604, valid_acc = 0.7081666666666667\n",
      "\n",
      "epoch 14: train_loss = 4.168157715036974, train_acc = 0.6562592592592592\n"
     ]
    },
    {
     "name": "stderr",
     "output_type": "stream",
     "text": [
      " 21%|██▏       | 10/47 [00:07<00:22,  1.62it/s]"
     ]
    },
    {
     "name": "stdout",
     "output_type": "stream",
     "text": [
      "epoch 14: train_loss = 6.455071105918596, train_acc = 0.2810925925925926\n"
     ]
    },
    {
     "name": "stderr",
     "output_type": "stream",
     "text": [
      " 40%|████      | 19/47 [00:12<00:15,  1.77it/s]"
     ]
    },
    {
     "name": "stdout",
     "output_type": "stream",
     "text": [
      "epoch 4: train_loss = 4.579877178096671, train_acc = 0.6125185185185186\n"
     ]
    },
    {
     "name": "stderr",
     "output_type": "stream",
     "text": [
      "100%|██████████| 47/47 [00:25<00:00,  1.84it/s]\n"
     ]
    },
    {
     "name": "stdout",
     "output_type": "stream",
     "text": [
      "epoch 14: valid_loss = 2.0655152968060655, valid_acc = 0.661\n",
      "\n"
     ]
    },
    {
     "name": "stderr",
     "output_type": "stream",
     "text": [
      "100%|██████████| 47/47 [00:23<00:00,  2.00it/s]\n"
     ]
    },
    {
     "name": "stdout",
     "output_type": "stream",
     "text": [
      "epoch 14: valid_loss = 3.190992261581129, valid_acc = 0.2866666666666667\n",
      "\n"
     ]
    },
    {
     "name": "stderr",
     "output_type": "stream",
     "text": [
      "100%|██████████| 47/47 [00:23<00:00,  1.97it/s]\n"
     ]
    },
    {
     "name": "stdout",
     "output_type": "stream",
     "text": [
      "epoch 4: valid_loss = 2.235642068105796, valid_acc = 0.633\n",
      "\n",
      "epoch 4: train_loss = 5.5042327936349915, train_acc = 0.43137037037037035\n"
     ]
    },
    {
     "name": "stderr",
     "output_type": "stream",
     "text": [
      "100%|██████████| 47/47 [00:25<00:00,  1.84it/s]\n"
     ]
    },
    {
     "name": "stdout",
     "output_type": "stream",
     "text": [
      "epoch 4: valid_loss = 2.671926594876488, valid_acc = 0.4595\n",
      "\n",
      "epoch 4: train_loss = 11.406058593081474, train_acc = 0.18925925925925927\n"
     ]
    },
    {
     "name": "stderr",
     "output_type": "stream",
     "text": [
      "100%|██████████| 47/47 [00:28<00:00,  1.64it/s]\n"
     ]
    },
    {
     "name": "stdout",
     "output_type": "stream",
     "text": [
      "epoch 4: valid_loss = 5.205920451287244, valid_acc = 0.19066666666666668\n",
      "\n",
      "epoch 15: train_loss = 3.400088197500694, train_acc = 0.7003148148148148\n"
     ]
    },
    {
     "name": "stderr",
     "output_type": "stream",
     "text": [
      "100%|██████████| 47/47 [00:30<00:00,  1.53it/s]\n"
     ]
    },
    {
     "name": "stdout",
     "output_type": "stream",
     "text": [
      "epoch 15: valid_loss = 1.6727983990514503, valid_acc = 0.7116666666666667\n",
      "\n",
      "epoch 5: train_loss = 4.3783900547861165, train_acc = 0.6456296296296297\n"
     ]
    },
    {
     "name": "stderr",
     "output_type": "stream",
     "text": [
      "  9%|▊         | 4/47 [00:03<00:35,  1.23it/s]"
     ]
    },
    {
     "name": "stdout",
     "output_type": "stream",
     "text": [
      "epoch 15: train_loss = 6.3223746233703455, train_acc = 0.29853703703703705\n"
     ]
    },
    {
     "name": "stderr",
     "output_type": "stream",
     "text": [
      " 11%|█         | 5/47 [00:03<00:31,  1.35it/s]"
     ]
    },
    {
     "name": "stdout",
     "output_type": "stream",
     "text": [
      "epoch 15: train_loss = 4.111447384877034, train_acc = 0.6637962962962963\n"
     ]
    },
    {
     "name": "stderr",
     "output_type": "stream",
     "text": [
      "100%|██████████| 47/47 [00:25<00:00,  1.81it/s]\n"
     ]
    },
    {
     "name": "stdout",
     "output_type": "stream",
     "text": [
      "epoch 5: valid_loss = 2.150840437641477, valid_acc = 0.6648333333333334\n",
      "\n"
     ]
    },
    {
     "name": "stderr",
     "output_type": "stream",
     "text": [
      "100%|██████████| 47/47 [00:25<00:00,  1.87it/s]\n"
     ]
    },
    {
     "name": "stdout",
     "output_type": "stream",
     "text": [
      "epoch 15: valid_loss = 2.03810904477297, valid_acc = 0.6676666666666666\n",
      "\n"
     ]
    },
    {
     "name": "stderr",
     "output_type": "stream",
     "text": [
      "100%|██████████| 47/47 [00:25<00:00,  1.83it/s]\n"
     ]
    },
    {
     "name": "stdout",
     "output_type": "stream",
     "text": [
      "epoch 15: valid_loss = 3.127938924389026, valid_acc = 0.30616666666666664\n",
      "\n",
      "epoch 5: train_loss = 5.201810520026987, train_acc = 0.49227777777777776\n"
     ]
    },
    {
     "name": "stderr",
     "output_type": "stream",
     "text": [
      "100%|██████████| 47/47 [00:31<00:00,  1.48it/s]\n"
     ]
    },
    {
     "name": "stdout",
     "output_type": "stream",
     "text": [
      "epoch 5: valid_loss = 2.540171299285664, valid_acc = 0.5178333333333334\n",
      "\n",
      "epoch 5: train_loss = 9.625954291178314, train_acc = 0.1989074074074074\n"
     ]
    },
    {
     "name": "stderr",
     "output_type": "stream",
     "text": [
      "100%|██████████| 47/47 [00:28<00:00,  1.63it/s]\n"
     ]
    },
    {
     "name": "stdout",
     "output_type": "stream",
     "text": [
      "epoch 5: valid_loss = 4.483684781087077, valid_acc = 0.1985\n",
      "\n",
      "epoch 16: train_loss = 3.3167013688572307, train_acc = 0.7027407407407408\n"
     ]
    },
    {
     "name": "stderr",
     "output_type": "stream",
     "text": [
      "100%|██████████| 47/47 [00:32<00:00,  1.45it/s]\n"
     ]
    },
    {
     "name": "stdout",
     "output_type": "stream",
     "text": [
      "epoch 16: valid_loss = 1.6302226339877273, valid_acc = 0.7165\n",
      "\n",
      "epoch 6: train_loss = 4.230188881341006, train_acc = 0.6687222222222222\n"
     ]
    },
    {
     "name": "stderr",
     "output_type": "stream",
     "text": [
      " 64%|██████▍   | 30/47 [00:16<00:10,  1.65it/s]"
     ]
    },
    {
     "name": "stdout",
     "output_type": "stream",
     "text": [
      "epoch 16: train_loss = 6.2017391544000695, train_acc = 0.31507407407407406\n"
     ]
    },
    {
     "name": "stderr",
     "output_type": "stream",
     "text": [
      " 70%|███████   | 33/47 [00:18<00:08,  1.70it/s]"
     ]
    },
    {
     "name": "stdout",
     "output_type": "stream",
     "text": [
      "epoch 16: train_loss = 4.05843400949331, train_acc = 0.6704629629629629\n"
     ]
    },
    {
     "name": "stderr",
     "output_type": "stream",
     "text": [
      "100%|██████████| 47/47 [00:26<00:00,  1.79it/s]\n"
     ]
    },
    {
     "name": "stdout",
     "output_type": "stream",
     "text": [
      "epoch 6: valid_loss = 2.0854356523874826, valid_acc = 0.6845\n",
      "\n"
     ]
    },
    {
     "name": "stderr",
     "output_type": "stream",
     "text": [
      "100%|██████████| 47/47 [00:25<00:00,  1.86it/s]\n"
     ]
    },
    {
     "name": "stdout",
     "output_type": "stream",
     "text": [
      "epoch 16: valid_loss = 3.070015943767158, valid_acc = 0.3205\n",
      "\n"
     ]
    },
    {
     "name": "stderr",
     "output_type": "stream",
     "text": [
      "100%|██████████| 47/47 [00:25<00:00,  1.85it/s]\n"
     ]
    },
    {
     "name": "stdout",
     "output_type": "stream",
     "text": [
      "epoch 16: valid_loss = 2.012260424707707, valid_acc = 0.6731666666666667\n",
      "\n",
      "epoch 6: train_loss = 4.9691917432941715, train_acc = 0.5377037037037037\n"
     ]
    },
    {
     "name": "stderr",
     "output_type": "stream",
     "text": [
      "100%|██████████| 47/47 [00:29<00:00,  1.62it/s]\n"
     ]
    },
    {
     "name": "stdout",
     "output_type": "stream",
     "text": [
      "epoch 6: valid_loss = 2.4375147423468393, valid_acc = 0.5571666666666667\n",
      "\n",
      "epoch 6: train_loss = 8.383442255034707, train_acc = 0.20874074074074075\n"
     ]
    },
    {
     "name": "stderr",
     "output_type": "stream",
     "text": [
      "100%|██████████| 47/47 [00:31<00:00,  1.51it/s]\n"
     ]
    },
    {
     "name": "stdout",
     "output_type": "stream",
     "text": [
      "epoch 6: valid_loss = 3.999383677113375, valid_acc = 0.207\n",
      "\n",
      "epoch 17: train_loss = 3.234083483924381, train_acc = 0.7057962962962963\n"
     ]
    },
    {
     "name": "stderr",
     "output_type": "stream",
     "text": [
      "100%|██████████| 47/47 [00:30<00:00,  1.53it/s]\n"
     ]
    },
    {
     "name": "stdout",
     "output_type": "stream",
     "text": [
      "epoch 17: valid_loss = 1.5886892350649122, valid_acc = 0.7188333333333333\n",
      "\n",
      "epoch 7: train_loss = 4.11086111540594, train_acc = 0.6848703703703704\n"
     ]
    },
    {
     "name": "stderr",
     "output_type": "stream",
     "text": [
      " 51%|█████     | 24/47 [00:15<00:12,  1.79it/s]"
     ]
    },
    {
     "name": "stdout",
     "output_type": "stream",
     "text": [
      "epoch 17: train_loss = 4.008090451861534, train_acc = 0.6754629629629629\n"
     ]
    },
    {
     "name": "stderr",
     "output_type": "stream",
     "text": [
      "100%|██████████| 47/47 [00:26<00:00,  1.75it/s]\n"
     ]
    },
    {
     "name": "stdout",
     "output_type": "stream",
     "text": [
      "epoch 7: valid_loss = 2.0303914221832335, valid_acc = 0.6988333333333333\n",
      "\n"
     ]
    },
    {
     "name": "stderr",
     "output_type": "stream",
     "text": [
      " 70%|███████   | 33/47 [00:19<00:07,  1.90it/s]"
     ]
    },
    {
     "name": "stdout",
     "output_type": "stream",
     "text": [
      "epoch 17: train_loss = 6.090598507603549, train_acc = 0.3312407407407407\n"
     ]
    },
    {
     "name": "stderr",
     "output_type": "stream",
     "text": [
      "100%|██████████| 47/47 [00:25<00:00,  1.81it/s]\n"
     ]
    },
    {
     "name": "stdout",
     "output_type": "stream",
     "text": [
      "epoch 17: valid_loss = 1.9875300350243696, valid_acc = 0.6785\n",
      "\n"
     ]
    },
    {
     "name": "stderr",
     "output_type": "stream",
     "text": [
      "100%|██████████| 47/47 [00:25<00:00,  1.81it/s]\n"
     ]
    },
    {
     "name": "stdout",
     "output_type": "stream",
     "text": [
      "epoch 17: valid_loss = 3.0165155138053907, valid_acc = 0.3378333333333333\n",
      "\n",
      "epoch 7: train_loss = 4.78616803096745, train_acc = 0.5741666666666667\n"
     ]
    },
    {
     "name": "stderr",
     "output_type": "stream",
     "text": [
      "100%|██████████| 47/47 [00:32<00:00,  1.45it/s]\n"
     ]
    },
    {
     "name": "stdout",
     "output_type": "stream",
     "text": [
      "epoch 7: valid_loss = 2.355974185401749, valid_acc = 0.5895\n",
      "\n",
      "epoch 7: train_loss = 7.637237508934731, train_acc = 0.21851851851851853\n"
     ]
    },
    {
     "name": "stderr",
     "output_type": "stream",
     "text": [
      "100%|██████████| 47/47 [00:26<00:00,  1.77it/s]\n"
     ]
    },
    {
     "name": "stdout",
     "output_type": "stream",
     "text": [
      "epoch 7: valid_loss = 3.71844251478112, valid_acc = 0.2155\n",
      "\n",
      "epoch 18: train_loss = 3.1537930225963158, train_acc = 0.7088148148148148\n"
     ]
    },
    {
     "name": "stderr",
     "output_type": "stream",
     "text": [
      "100%|██████████| 47/47 [00:30<00:00,  1.56it/s]\n"
     ]
    },
    {
     "name": "stdout",
     "output_type": "stream",
     "text": [
      "epoch 18: valid_loss = 1.5483875289132987, valid_acc = 0.7233333333333334\n",
      "\n",
      "epoch 18: train_loss = 3.959636881976667, train_acc = 0.6792037037037038\n"
     ]
    },
    {
     "name": "stderr",
     "output_type": "stream",
     "text": [
      "  9%|▊         | 4/47 [00:02<00:30,  1.40it/s]"
     ]
    },
    {
     "name": "stdout",
     "output_type": "stream",
     "text": [
      "epoch 8: train_loss = 4.00670587570814, train_acc = 0.6961481481481482\n"
     ]
    },
    {
     "name": "stderr",
     "output_type": "stream",
     "text": [
      "100%|██████████| 47/47 [00:27<00:00,  1.73it/s]\n"
     ]
    },
    {
     "name": "stdout",
     "output_type": "stream",
     "text": [
      "epoch 18: valid_loss = 1.9635813663288406, valid_acc = 0.684\n",
      "\n"
     ]
    },
    {
     "name": "stderr",
     "output_type": "stream",
     "text": [
      "100%|██████████| 47/47 [00:27<00:00,  1.71it/s]\n"
     ]
    },
    {
     "name": "stdout",
     "output_type": "stream",
     "text": [
      "epoch 8: valid_loss = 1.9806682485911493, valid_acc = 0.7078333333333333\n",
      "\n",
      "epoch 18: train_loss = 5.987701685213027, train_acc = 0.34564814814814815\n"
     ]
    },
    {
     "name": "stderr",
     "output_type": "stream",
     "text": [
      "100%|██████████| 47/47 [00:34<00:00,  1.38it/s]\n"
     ]
    },
    {
     "name": "stdout",
     "output_type": "stream",
     "text": [
      "epoch 18: valid_loss = 2.966874767018166, valid_acc = 0.3516666666666667\n",
      "\n",
      "epoch 8: train_loss = 4.6395204895681506, train_acc = 0.6018888888888889\n"
     ]
    },
    {
     "name": "stderr",
     "output_type": "stream",
     "text": [
      "100%|██████████| 47/47 [00:28<00:00,  1.64it/s]\n"
     ]
    },
    {
     "name": "stdout",
     "output_type": "stream",
     "text": [
      "epoch 8: valid_loss = 2.2900522034371, valid_acc = 0.6133333333333333\n",
      "\n",
      "epoch 8: train_loss = 7.255054737549114, train_acc = 0.22948148148148148\n"
     ]
    },
    {
     "name": "stderr",
     "output_type": "stream",
     "text": [
      " 19%|█▉        | 9/47 [00:05<00:23,  1.62it/s]"
     ]
    },
    {
     "name": "stdout",
     "output_type": "stream",
     "text": [
      "epoch 19: train_loss = 3.0771264623654124, train_acc = 0.7117777777777777\n"
     ]
    },
    {
     "name": "stderr",
     "output_type": "stream",
     "text": [
      "100%|██████████| 47/47 [00:27<00:00,  1.70it/s]\n"
     ]
    },
    {
     "name": "stdout",
     "output_type": "stream",
     "text": [
      "epoch 8: valid_loss = 3.5645476952609503, valid_acc = 0.2255\n",
      "\n"
     ]
    },
    {
     "name": "stderr",
     "output_type": "stream",
     "text": [
      "100%|██████████| 47/47 [00:27<00:00,  1.72it/s]\n"
     ]
    },
    {
     "name": "stdout",
     "output_type": "stream",
     "text": [
      "epoch 19: valid_loss = 1.509477851993447, valid_acc = 0.7256666666666667\n",
      "\n"
     ]
    },
    {
     "name": "stderr",
     "output_type": "stream",
     "text": [
      "100%|██████████| 79/79 [00:44<00:00,  1.79it/s]\n"
     ]
    },
    {
     "name": "stdout",
     "output_type": "stream",
     "text": [
      "Finished: ep=20, lr=0.1, cores=5, test_acc=0.7298\n",
      "epoch 19: train_loss = 3.9124992498751747, train_acc = 0.6824259259259259\n"
     ]
    },
    {
     "name": "stderr",
     "output_type": "stream",
     "text": [
      " 49%|████▉     | 23/47 [00:12<00:11,  2.11it/s]"
     ]
    },
    {
     "name": "stdout",
     "output_type": "stream",
     "text": [
      "epoch 9: train_loss = 3.910198043503906, train_acc = 0.7038518518518518\n"
     ]
    },
    {
     "name": "stderr",
     "output_type": "stream",
     "text": [
      "100%|██████████| 47/47 [00:23<00:00,  2.01it/s]\n"
     ]
    },
    {
     "name": "stdout",
     "output_type": "stream",
     "text": [
      "epoch 19: valid_loss = 1.9401759718908973, valid_acc = 0.6888333333333333\n",
      "\n"
     ]
    },
    {
     "name": "stderr",
     "output_type": "stream",
     "text": [
      "100%|██████████| 47/47 [00:23<00:00,  1.98it/s]\n"
     ]
    },
    {
     "name": "stdout",
     "output_type": "stream",
     "text": [
      "epoch 9: valid_loss = 1.93356851082291, valid_acc = 0.7135\n",
      "\n"
     ]
    },
    {
     "name": "stderr",
     "output_type": "stream",
     "text": [
      " 39%|███▉      | 31/79 [00:14<00:23,  2.07it/s]"
     ]
    },
    {
     "name": "stdout",
     "output_type": "stream",
     "text": [
      "epoch 19: train_loss = 5.892039079259976, train_acc = 0.35924074074074075\n"
     ]
    },
    {
     "name": "stderr",
     "output_type": "stream",
     "text": [
      "100%|██████████| 79/79 [00:37<00:00,  2.10it/s]\n",
      "100%|██████████| 47/47 [00:23<00:00,  2.04it/s]\n"
     ]
    },
    {
     "name": "stdout",
     "output_type": "stream",
     "text": [
      "epoch 19: valid_loss = 2.9206409774287754, valid_acc = 0.36383333333333334\n",
      "\n"
     ]
    },
    {
     "name": "stderr",
     "output_type": "stream",
     "text": [
      "  0%|          | 0/79 [00:00<?, ?it/s]"
     ]
    },
    {
     "name": "stdout",
     "output_type": "stream",
     "text": [
      "Finished: ep=20, lr=0.05, cores=5, test_acc=0.7031\n"
     ]
    },
    {
     "name": "stderr",
     "output_type": "stream",
     "text": [
      " 35%|███▌      | 28/79 [00:12<00:22,  2.24it/s]"
     ]
    },
    {
     "name": "stdout",
     "output_type": "stream",
     "text": [
      "epoch 9: train_loss = 4.519921551625391, train_acc = 0.6227407407407407\n"
     ]
    },
    {
     "name": "stderr",
     "output_type": "stream",
     "text": [
      "100%|██████████| 79/79 [00:32<00:00,  2.40it/s]\n",
      " 98%|█████████▊| 46/47 [00:20<00:00,  2.30it/s]"
     ]
    },
    {
     "name": "stdout",
     "output_type": "stream",
     "text": [
      "Finished: ep=20, lr=0.01, cores=5, test_acc=0.3757\n"
     ]
    },
    {
     "name": "stderr",
     "output_type": "stream",
     "text": [
      "100%|██████████| 47/47 [00:20<00:00,  2.25it/s]\n"
     ]
    },
    {
     "name": "stdout",
     "output_type": "stream",
     "text": [
      "epoch 9: valid_loss = 2.235764732734976, valid_acc = 0.6328333333333334\n",
      "\n",
      "epoch 9: train_loss = 7.00283781972267, train_acc = 0.24085185185185184\n"
     ]
    },
    {
     "name": "stderr",
     "output_type": "stream",
     "text": [
      "100%|██████████| 47/47 [00:19<00:00,  2.42it/s]\n"
     ]
    },
    {
     "name": "stdout",
     "output_type": "stream",
     "text": [
      "epoch 9: valid_loss = 3.456675512729631, valid_acc = 0.23966666666666667\n",
      "\n",
      "epoch 10: train_loss = 3.8173694258019832, train_acc = 0.7095\n"
     ]
    },
    {
     "name": "stderr",
     "output_type": "stream",
     "text": [
      "100%|██████████| 47/47 [00:17<00:00,  2.63it/s]\n"
     ]
    },
    {
     "name": "stdout",
     "output_type": "stream",
     "text": [
      "epoch 10: valid_loss = 1.8877124988162923, valid_acc = 0.718\n",
      "\n",
      "epoch 10: train_loss = 4.420488449438899, train_acc = 0.6391851851851852\n"
     ]
    },
    {
     "name": "stderr",
     "output_type": "stream",
     "text": [
      "100%|██████████| 47/47 [00:18<00:00,  2.61it/s]\n"
     ]
    },
    {
     "name": "stdout",
     "output_type": "stream",
     "text": [
      "epoch 10: valid_loss = 2.1901380616165933, valid_acc = 0.6496666666666666\n",
      "\n",
      "epoch 10: train_loss = 6.805493290949356, train_acc = 0.2529814814814815\n"
     ]
    },
    {
     "name": "stderr",
     "output_type": "stream",
     "text": [
      "100%|██████████| 47/47 [00:17<00:00,  2.73it/s]\n"
     ]
    },
    {
     "name": "stdout",
     "output_type": "stream",
     "text": [
      "epoch 10: valid_loss = 3.3671783037230254, valid_acc = 0.25466666666666665\n",
      "\n",
      "epoch 11: train_loss = 3.7262671142341404, train_acc = 0.7139629629629629\n"
     ]
    },
    {
     "name": "stderr",
     "output_type": "stream",
     "text": [
      "100%|██████████| 47/47 [00:17<00:00,  2.68it/s]\n"
     ]
    },
    {
     "name": "stdout",
     "output_type": "stream",
     "text": [
      "epoch 11: valid_loss = 1.8424532723632183, valid_acc = 0.722\n",
      "\n",
      "epoch 11: train_loss = 4.336038140512771, train_acc = 0.6527592592592593\n"
     ]
    },
    {
     "name": "stderr",
     "output_type": "stream",
     "text": [
      "100%|██████████| 47/47 [00:17<00:00,  2.68it/s]\n"
     ]
    },
    {
     "name": "stdout",
     "output_type": "stream",
     "text": [
      "epoch 11: valid_loss = 2.150936083586122, valid_acc = 0.6646666666666666\n",
      "\n",
      "epoch 11: train_loss = 6.635238809911222, train_acc = 0.2661851851851852\n"
     ]
    },
    {
     "name": "stderr",
     "output_type": "stream",
     "text": [
      "100%|██████████| 47/47 [00:19<00:00,  2.45it/s]\n"
     ]
    },
    {
     "name": "stdout",
     "output_type": "stream",
     "text": [
      "epoch 11: valid_loss = 3.2828727943048897, valid_acc = 0.2683333333333333\n",
      "\n",
      "epoch 12: train_loss = 3.6360414311043363, train_acc = 0.7182407407407407\n"
     ]
    },
    {
     "name": "stderr",
     "output_type": "stream",
     "text": [
      "100%|██████████| 47/47 [00:17<00:00,  2.62it/s]\n"
     ]
    },
    {
     "name": "stdout",
     "output_type": "stream",
     "text": [
      "epoch 12: valid_loss = 1.7975577953383062, valid_acc = 0.7233333333333334\n",
      "\n",
      "epoch 12: train_loss = 4.26267204568143, train_acc = 0.6639814814814815\n"
     ]
    },
    {
     "name": "stderr",
     "output_type": "stream",
     "text": [
      "100%|██████████| 47/47 [00:18<00:00,  2.53it/s]\n"
     ]
    },
    {
     "name": "stdout",
     "output_type": "stream",
     "text": [
      "epoch 12: valid_loss = 2.116485094494558, valid_acc = 0.676\n",
      "\n",
      "epoch 12: train_loss = 6.484520123920263, train_acc = 0.2805\n"
     ]
    },
    {
     "name": "stderr",
     "output_type": "stream",
     "text": [
      "100%|██████████| 47/47 [00:18<00:00,  2.61it/s]\n"
     ]
    },
    {
     "name": "stdout",
     "output_type": "stream",
     "text": [
      "epoch 12: valid_loss = 3.211022316798425, valid_acc = 0.2851666666666667\n",
      "\n",
      "epoch 13: train_loss = 3.546468162700037, train_acc = 0.7212222222222222\n"
     ]
    },
    {
     "name": "stderr",
     "output_type": "stream",
     "text": [
      "100%|██████████| 47/47 [00:19<00:00,  2.46it/s]\n"
     ]
    },
    {
     "name": "stdout",
     "output_type": "stream",
     "text": [
      "epoch 13: valid_loss = 1.7530204999027972, valid_acc = 0.7266666666666667\n",
      "\n",
      "epoch 13: train_loss = 4.197462196495431, train_acc = 0.6733148148148148\n"
     ]
    },
    {
     "name": "stderr",
     "output_type": "stream",
     "text": [
      "100%|██████████| 47/47 [00:18<00:00,  2.50it/s]\n"
     ]
    },
    {
     "name": "stdout",
     "output_type": "stream",
     "text": [
      "epoch 13: valid_loss = 2.085510789030515, valid_acc = 0.6843333333333333\n",
      "\n",
      "epoch 13: train_loss = 6.348009892089588, train_acc = 0.2942592592592593\n"
     ]
    },
    {
     "name": "stderr",
     "output_type": "stream",
     "text": [
      "100%|██████████| 47/47 [00:18<00:00,  2.50it/s]\n"
     ]
    },
    {
     "name": "stdout",
     "output_type": "stream",
     "text": [
      "epoch 13: valid_loss = 3.1456784282567667, valid_acc = 0.298\n",
      "\n",
      "epoch 14: train_loss = 3.457717261537033, train_acc = 0.7233518518518518\n"
     ]
    },
    {
     "name": "stderr",
     "output_type": "stream",
     "text": [
      "100%|██████████| 47/47 [00:16<00:00,  2.78it/s]\n"
     ]
    },
    {
     "name": "stdout",
     "output_type": "stream",
     "text": [
      "epoch 14: valid_loss = 1.708948571235655, valid_acc = 0.7293333333333333\n",
      "\n",
      "epoch 14: train_loss = 4.138197523516032, train_acc = 0.6817037037037037\n"
     ]
    },
    {
     "name": "stderr",
     "output_type": "stream",
     "text": [
      "100%|██████████| 47/47 [00:18<00:00,  2.51it/s]\n"
     ]
    },
    {
     "name": "stdout",
     "output_type": "stream",
     "text": [
      "epoch 14: valid_loss = 2.0570649509775847, valid_acc = 0.693\n",
      "\n",
      "epoch 14: train_loss = 6.223306143787205, train_acc = 0.3105185185185185\n"
     ]
    },
    {
     "name": "stderr",
     "output_type": "stream",
     "text": [
      "100%|██████████| 47/47 [00:18<00:00,  2.50it/s]\n"
     ]
    },
    {
     "name": "stdout",
     "output_type": "stream",
     "text": [
      "epoch 14: valid_loss = 3.0857962963008463, valid_acc = 0.31516666666666665\n",
      "\n",
      "epoch 15: train_loss = 3.3711564748947938, train_acc = 0.7254074074074074\n"
     ]
    },
    {
     "name": "stderr",
     "output_type": "stream",
     "text": [
      "100%|██████████| 47/47 [00:18<00:00,  2.53it/s]\n"
     ]
    },
    {
     "name": "stdout",
     "output_type": "stream",
     "text": [
      "epoch 15: valid_loss = 1.6655143208622927, valid_acc = 0.7313333333333333\n",
      "\n",
      "epoch 15: train_loss = 4.083244023640649, train_acc = 0.6881851851851852\n"
     ]
    },
    {
     "name": "stderr",
     "output_type": "stream",
     "text": [
      "100%|██████████| 47/47 [00:19<00:00,  2.40it/s]\n"
     ]
    },
    {
     "name": "stdout",
     "output_type": "stream",
     "text": [
      "epoch 15: valid_loss = 2.0304422413263556, valid_acc = 0.6988333333333333\n",
      "\n",
      "epoch 15: train_loss = 6.108637158482501, train_acc = 0.3252037037037037\n"
     ]
    },
    {
     "name": "stderr",
     "output_type": "stream",
     "text": [
      "100%|██████████| 47/47 [00:17<00:00,  2.71it/s]\n"
     ]
    },
    {
     "name": "stdout",
     "output_type": "stream",
     "text": [
      "epoch 15: valid_loss = 3.03058719050995, valid_acc = 0.32866666666666666\n",
      "\n",
      "epoch 16: train_loss = 3.287075804745973, train_acc = 0.7274814814814815\n"
     ]
    },
    {
     "name": "stderr",
     "output_type": "stream",
     "text": [
      "100%|██████████| 47/47 [00:18<00:00,  2.60it/s]\n"
     ]
    },
    {
     "name": "stdout",
     "output_type": "stream",
     "text": [
      "epoch 16: valid_loss = 1.6229467866053737, valid_acc = 0.7326666666666667\n",
      "\n",
      "epoch 16: train_loss = 4.03137917857196, train_acc = 0.6941111111111111\n"
     ]
    },
    {
     "name": "stderr",
     "output_type": "stream",
     "text": [
      "100%|██████████| 47/47 [00:16<00:00,  2.77it/s]\n"
     ]
    },
    {
     "name": "stdout",
     "output_type": "stream",
     "text": [
      "epoch 16: valid_loss = 2.0051152606079508, valid_acc = 0.7043333333333334\n",
      "\n",
      "epoch 16: train_loss = 6.002629436352088, train_acc = 0.3420740740740741\n"
     ]
    },
    {
     "name": "stderr",
     "output_type": "stream",
     "text": [
      "100%|██████████| 47/47 [00:18<00:00,  2.53it/s]\n"
     ]
    },
    {
     "name": "stdout",
     "output_type": "stream",
     "text": [
      "epoch 16: valid_loss = 2.979436748094841, valid_acc = 0.3446666666666667\n",
      "\n",
      "epoch 17: train_loss = 3.2049329305428524, train_acc = 0.7296851851851852\n"
     ]
    },
    {
     "name": "stderr",
     "output_type": "stream",
     "text": [
      "100%|██████████| 47/47 [00:18<00:00,  2.60it/s]\n"
     ]
    },
    {
     "name": "stdout",
     "output_type": "stream",
     "text": [
      "epoch 17: valid_loss = 1.5814738417225684, valid_acc = 0.735\n",
      "\n",
      "epoch 17: train_loss = 3.9816990251788327, train_acc = 0.6988518518518518\n"
     ]
    },
    {
     "name": "stderr",
     "output_type": "stream",
     "text": [
      "100%|██████████| 47/47 [00:18<00:00,  2.49it/s]\n"
     ]
    },
    {
     "name": "stdout",
     "output_type": "stream",
     "text": [
      "epoch 17: valid_loss = 1.9807026673614792, valid_acc = 0.7078333333333333\n",
      "\n",
      "epoch 17: train_loss = 5.904200562176835, train_acc = 0.3577962962962963\n"
     ]
    },
    {
     "name": "stderr",
     "output_type": "stream",
     "text": [
      "100%|██████████| 47/47 [00:18<00:00,  2.56it/s]\n"
     ]
    },
    {
     "name": "stdout",
     "output_type": "stream",
     "text": [
      "epoch 17: valid_loss = 2.9318586814037255, valid_acc = 0.3615\n",
      "\n",
      "epoch 18: train_loss = 3.1230163542184526, train_acc = 0.7321296296296296\n"
     ]
    },
    {
     "name": "stderr",
     "output_type": "stream",
     "text": [
      "100%|██████████| 47/47 [00:17<00:00,  2.71it/s]\n"
     ]
    },
    {
     "name": "stdout",
     "output_type": "stream",
     "text": [
      "epoch 18: valid_loss = 1.5412805322952796, valid_acc = 0.7368333333333333\n",
      "\n",
      "epoch 18: train_loss = 3.9335557642300016, train_acc = 0.7026666666666667\n"
     ]
    },
    {
     "name": "stderr",
     "output_type": "stream",
     "text": [
      "100%|██████████| 47/47 [00:17<00:00,  2.67it/s]\n"
     ]
    },
    {
     "name": "stdout",
     "output_type": "stream",
     "text": [
      "epoch 18: valid_loss = 1.9569288944256058, valid_acc = 0.7116666666666667\n",
      "\n",
      "epoch 18: train_loss = 5.812469428599153, train_acc = 0.37377777777777776\n"
     ]
    },
    {
     "name": "stderr",
     "output_type": "stream",
     "text": [
      "100%|██████████| 47/47 [00:18<00:00,  2.50it/s]\n"
     ]
    },
    {
     "name": "stdout",
     "output_type": "stream",
     "text": [
      "epoch 18: valid_loss = 2.8874489104771484, valid_acc = 0.37866666666666665\n",
      "\n",
      "epoch 19: train_loss = 3.044975299624681, train_acc = 0.7345\n"
     ]
    },
    {
     "name": "stderr",
     "output_type": "stream",
     "text": [
      "100%|██████████| 47/47 [00:19<00:00,  2.45it/s]\n"
     ]
    },
    {
     "name": "stdout",
     "output_type": "stream",
     "text": [
      "epoch 19: valid_loss = 1.5025239605895582, valid_acc = 0.7398333333333333\n",
      "\n",
      "epoch 19: train_loss = 3.886470130024623, train_acc = 0.7055370370370371\n"
     ]
    },
    {
     "name": "stderr",
     "output_type": "stream",
     "text": [
      "100%|██████████| 47/47 [00:19<00:00,  2.38it/s]\n"
     ]
    },
    {
     "name": "stdout",
     "output_type": "stream",
     "text": [
      "epoch 19: valid_loss = 1.93359079232057, valid_acc = 0.7133333333333334\n",
      "\n",
      "epoch 19: train_loss = 5.726712266379914, train_acc = 0.3888333333333333\n"
     ]
    },
    {
     "name": "stderr",
     "output_type": "stream",
     "text": [
      "100%|██████████| 47/47 [00:19<00:00,  2.45it/s]\n"
     ]
    },
    {
     "name": "stdout",
     "output_type": "stream",
     "text": [
      "epoch 19: valid_loss = 2.8458738244175454, valid_acc = 0.3923333333333333\n",
      "\n",
      "epoch 20: train_loss = 2.9740649893453055, train_acc = 0.7365\n"
     ]
    },
    {
     "name": "stderr",
     "output_type": "stream",
     "text": [
      "100%|██████████| 47/47 [00:18<00:00,  2.57it/s]\n"
     ]
    },
    {
     "name": "stdout",
     "output_type": "stream",
     "text": [
      "epoch 20: valid_loss = 1.4653586695325533, valid_acc = 0.7411666666666666\n",
      "\n",
      "epoch 20: train_loss = 3.8401054383952427, train_acc = 0.7085185185185185\n"
     ]
    },
    {
     "name": "stderr",
     "output_type": "stream",
     "text": [
      "100%|██████████| 47/47 [00:17<00:00,  2.67it/s]\n"
     ]
    },
    {
     "name": "stdout",
     "output_type": "stream",
     "text": [
      "epoch 20: valid_loss = 1.9105536511621042, valid_acc = 0.7155\n",
      "\n",
      "epoch 20: train_loss = 5.646325971949936, train_acc = 0.403537037037037\n"
     ]
    },
    {
     "name": "stderr",
     "output_type": "stream",
     "text": [
      "100%|██████████| 47/47 [00:18<00:00,  2.50it/s]\n"
     ]
    },
    {
     "name": "stdout",
     "output_type": "stream",
     "text": [
      "epoch 20: valid_loss = 2.8068565651262345, valid_acc = 0.4091666666666667\n",
      "\n",
      "epoch 21: train_loss = 2.905328195805294, train_acc = 0.7387592592592592\n"
     ]
    },
    {
     "name": "stderr",
     "output_type": "stream",
     "text": [
      "100%|██████████| 47/47 [00:18<00:00,  2.60it/s]\n"
     ]
    },
    {
     "name": "stdout",
     "output_type": "stream",
     "text": [
      "epoch 21: valid_loss = 1.4298859249502684, valid_acc = 0.7426666666666667\n",
      "\n",
      "epoch 21: train_loss = 3.794243271669399, train_acc = 0.7107037037037037\n"
     ]
    },
    {
     "name": "stderr",
     "output_type": "stream",
     "text": [
      "100%|██████████| 47/47 [00:17<00:00,  2.64it/s]\n"
     ]
    },
    {
     "name": "stdout",
     "output_type": "stream",
     "text": [
      "epoch 21: valid_loss = 1.8877277703079618, valid_acc = 0.718\n",
      "\n",
      "epoch 21: train_loss = 5.570799060698221, train_acc = 0.4182777777777778\n"
     ]
    },
    {
     "name": "stderr",
     "output_type": "stream",
     "text": [
      "100%|██████████| 47/47 [00:18<00:00,  2.55it/s]\n"
     ]
    },
    {
     "name": "stdout",
     "output_type": "stream",
     "text": [
      "epoch 21: valid_loss = 2.7701573446512473, valid_acc = 0.4231666666666667\n",
      "\n",
      "epoch 22: train_loss = 2.8389981123079226, train_acc = 0.7413333333333333\n"
     ]
    },
    {
     "name": "stderr",
     "output_type": "stream",
     "text": [
      "100%|██████████| 47/47 [00:17<00:00,  2.67it/s]\n"
     ]
    },
    {
     "name": "stdout",
     "output_type": "stream",
     "text": [
      "epoch 22: valid_loss = 1.396160543725908, valid_acc = 0.745\n",
      "\n",
      "epoch 22: train_loss = 3.748711649280452, train_acc = 0.7131296296296297\n"
     ]
    },
    {
     "name": "stderr",
     "output_type": "stream",
     "text": [
      "100%|██████████| 47/47 [00:18<00:00,  2.61it/s]\n"
     ]
    },
    {
     "name": "stdout",
     "output_type": "stream",
     "text": [
      "epoch 22: valid_loss = 1.865040981252167, valid_acc = 0.7203333333333334\n",
      "\n",
      "epoch 22: train_loss = 5.499695452873986, train_acc = 0.43192592592592594\n"
     ]
    },
    {
     "name": "stderr",
     "output_type": "stream",
     "text": [
      "100%|██████████| 47/47 [00:19<00:00,  2.43it/s]\n"
     ]
    },
    {
     "name": "stdout",
     "output_type": "stream",
     "text": [
      "epoch 22: valid_loss = 2.735579575517976, valid_acc = 0.43716666666666665\n",
      "\n",
      "epoch 23: train_loss = 2.778353741181076, train_acc = 0.7438518518518519\n"
     ]
    },
    {
     "name": "stderr",
     "output_type": "stream",
     "text": [
      "100%|██████████| 47/47 [00:19<00:00,  2.43it/s]\n"
     ]
    },
    {
     "name": "stdout",
     "output_type": "stream",
     "text": [
      "epoch 23: valid_loss = 1.3642435213013773, valid_acc = 0.7481666666666666\n",
      "\n",
      "epoch 23: train_loss = 3.7034133544370134, train_acc = 0.7155925925925926\n"
     ]
    },
    {
     "name": "stderr",
     "output_type": "stream",
     "text": [
      "100%|██████████| 47/47 [00:18<00:00,  2.61it/s]\n"
     ]
    },
    {
     "name": "stdout",
     "output_type": "stream",
     "text": [
      "epoch 23: valid_loss = 1.842459727929907, valid_acc = 0.7215\n",
      "\n",
      "epoch 23: train_loss = 5.432635741582038, train_acc = 0.44557407407407407\n"
     ]
    },
    {
     "name": "stderr",
     "output_type": "stream",
     "text": [
      "100%|██████████| 47/47 [00:17<00:00,  2.63it/s]\n"
     ]
    },
    {
     "name": "stdout",
     "output_type": "stream",
     "text": [
      "epoch 23: valid_loss = 2.7029428532075213, valid_acc = 0.44766666666666666\n",
      "\n",
      "epoch 24: train_loss = 2.7249905996090167, train_acc = 0.7465185185185185\n"
     ]
    },
    {
     "name": "stderr",
     "output_type": "stream",
     "text": [
      "100%|██████████| 47/47 [00:18<00:00,  2.50it/s]\n"
     ]
    },
    {
     "name": "stdout",
     "output_type": "stream",
     "text": [
      "epoch 24: valid_loss = 1.338935864853823, valid_acc = 0.7511666666666666\n",
      "\n",
      "epoch 24: train_loss = 3.658301646375381, train_acc = 0.7171851851851851\n"
     ]
    },
    {
     "name": "stderr",
     "output_type": "stream",
     "text": [
      "100%|██████████| 47/47 [00:19<00:00,  2.45it/s]\n"
     ]
    },
    {
     "name": "stdout",
     "output_type": "stream",
     "text": [
      "epoch 24: valid_loss = 1.8199679850331583, valid_acc = 0.7235\n",
      "\n",
      "epoch 24: train_loss = 5.369281843659391, train_acc = 0.45911111111111114\n"
     ]
    },
    {
     "name": "stderr",
     "output_type": "stream",
     "text": [
      "100%|██████████| 47/47 [00:19<00:00,  2.46it/s]\n"
     ]
    },
    {
     "name": "stdout",
     "output_type": "stream",
     "text": [
      "epoch 24: valid_loss = 2.6720920553008756, valid_acc = 0.4598333333333333\n",
      "\n",
      "epoch 25: train_loss = 2.676027112213983, train_acc = 0.7496111111111111\n"
     ]
    },
    {
     "name": "stderr",
     "output_type": "stream",
     "text": [
      "100%|██████████| 47/47 [00:18<00:00,  2.59it/s]\n"
     ]
    },
    {
     "name": "stdout",
     "output_type": "stream",
     "text": [
      "epoch 25: valid_loss = 1.3109246026542953, valid_acc = 0.7548333333333334\n",
      "\n",
      "epoch 25: train_loss = 3.613348673972133, train_acc = 0.7191296296296297\n"
     ]
    },
    {
     "name": "stderr",
     "output_type": "stream",
     "text": [
      "100%|██████████| 47/47 [00:19<00:00,  2.44it/s]\n"
     ]
    },
    {
     "name": "stdout",
     "output_type": "stream",
     "text": [
      "epoch 25: valid_loss = 1.7975600621621357, valid_acc = 0.7226666666666667\n",
      "\n",
      "epoch 25: train_loss = 5.309348710154376, train_acc = 0.47053703703703703\n"
     ]
    },
    {
     "name": "stderr",
     "output_type": "stream",
     "text": [
      "100%|██████████| 47/47 [00:18<00:00,  2.50it/s]\n"
     ]
    },
    {
     "name": "stdout",
     "output_type": "stream",
     "text": [
      "epoch 25: valid_loss = 2.6428907165596724, valid_acc = 0.4711666666666667\n",
      "\n",
      "epoch 26: train_loss = 2.6319833875641163, train_acc = 0.7532037037037037\n"
     ]
    },
    {
     "name": "stderr",
     "output_type": "stream",
     "text": [
      "100%|██████████| 47/47 [00:18<00:00,  2.52it/s]\n"
     ]
    },
    {
     "name": "stdout",
     "output_type": "stream",
     "text": [
      "epoch 26: valid_loss = 1.3035806598926, valid_acc = 0.7568333333333334\n",
      "\n",
      "epoch 26: train_loss = 3.5685554172977163, train_acc = 0.7204074074074074\n"
     ]
    },
    {
     "name": "stderr",
     "output_type": "stream",
     "text": [
      "100%|██████████| 47/47 [00:18<00:00,  2.59it/s]\n"
     ]
    },
    {
     "name": "stdout",
     "output_type": "stream",
     "text": [
      "epoch 26: valid_loss = 1.7752409061803656, valid_acc = 0.7255\n",
      "\n",
      "epoch 26: train_loss = 5.2525808121780715, train_acc = 0.48277777777777775\n"
     ]
    },
    {
     "name": "stderr",
     "output_type": "stream",
     "text": [
      "100%|██████████| 47/47 [00:18<00:00,  2.51it/s]\n"
     ]
    },
    {
     "name": "stdout",
     "output_type": "stream",
     "text": [
      "epoch 26: valid_loss = 2.6152171517798717, valid_acc = 0.4811666666666667\n",
      "\n",
      "epoch 27: train_loss = 2.586655837678537, train_acc = 0.7563518518518518\n"
     ]
    },
    {
     "name": "stderr",
     "output_type": "stream",
     "text": [
      "100%|██████████| 47/47 [00:18<00:00,  2.52it/s]\n"
     ]
    },
    {
     "name": "stdout",
     "output_type": "stream",
     "text": [
      "epoch 27: valid_loss = 1.2919075949695211, valid_acc = 0.7586666666666667\n",
      "\n",
      "epoch 27: train_loss = 3.5239495603436626, train_acc = 0.7219444444444445\n"
     ]
    },
    {
     "name": "stderr",
     "output_type": "stream",
     "text": [
      "100%|██████████| 47/47 [00:19<00:00,  2.41it/s]\n"
     ]
    },
    {
     "name": "stdout",
     "output_type": "stream",
     "text": [
      "epoch 27: valid_loss = 1.753020816582935, valid_acc = 0.726\n",
      "\n",
      "epoch 27: train_loss = 5.198745295235367, train_acc = 0.49296296296296294\n"
     ]
    },
    {
     "name": "stderr",
     "output_type": "stream",
     "text": [
      "100%|██████████| 47/47 [00:18<00:00,  2.56it/s]\n"
     ]
    },
    {
     "name": "stdout",
     "output_type": "stream",
     "text": [
      "epoch 27: valid_loss = 2.5889600447823655, valid_acc = 0.49233333333333335\n",
      "\n",
      "epoch 28: train_loss = 2.545197650792129, train_acc = 0.759537037037037\n"
     ]
    },
    {
     "name": "stderr",
     "output_type": "stream",
     "text": [
      "100%|██████████| 47/47 [00:19<00:00,  2.38it/s]\n"
     ]
    },
    {
     "name": "stdout",
     "output_type": "stream",
     "text": [
      "epoch 28: valid_loss = 1.273028974943458, valid_acc = 0.762\n",
      "\n",
      "epoch 28: train_loss = 3.479559068753947, train_acc = 0.7225555555555555\n"
     ]
    },
    {
     "name": "stderr",
     "output_type": "stream",
     "text": [
      "100%|██████████| 47/47 [00:18<00:00,  2.49it/s]\n"
     ]
    },
    {
     "name": "stdout",
     "output_type": "stream",
     "text": [
      "epoch 28: valid_loss = 1.730914003160684, valid_acc = 0.7278333333333333\n",
      "\n",
      "epoch 28: train_loss = 5.147634980811184, train_acc = 0.5031296296296296\n"
     ]
    },
    {
     "name": "stderr",
     "output_type": "stream",
     "text": [
      "100%|██████████| 47/47 [00:17<00:00,  2.70it/s]\n"
     ]
    },
    {
     "name": "stdout",
     "output_type": "stream",
     "text": [
      "epoch 28: valid_loss = 2.564023464638732, valid_acc = 0.5048333333333334\n",
      "\n",
      "epoch 29: train_loss = 2.50960974554676, train_acc = 0.7627777777777778\n"
     ]
    },
    {
     "name": "stderr",
     "output_type": "stream",
     "text": [
      "100%|██████████| 47/47 [00:17<00:00,  2.65it/s]\n"
     ]
    },
    {
     "name": "stdout",
     "output_type": "stream",
     "text": [
      "epoch 29: valid_loss = 1.2648940530963597, valid_acc = 0.7635\n",
      "\n"
     ]
    },
    {
     "name": "stderr",
     "output_type": "stream",
     "text": [
      "100%|██████████| 79/79 [00:29<00:00,  2.67it/s]\n"
     ]
    },
    {
     "name": "stdout",
     "output_type": "stream",
     "text": [
      "Finished: ep=30, lr=0.1, cores=5, test_acc=0.7758\n",
      "epoch 29: train_loss = 3.4354324664803597, train_acc = 0.7239444444444444\n"
     ]
    },
    {
     "name": "stderr",
     "output_type": "stream",
     "text": [
      "100%|██████████| 47/47 [00:15<00:00,  3.07it/s]\n"
     ]
    },
    {
     "name": "stdout",
     "output_type": "stream",
     "text": [
      "epoch 29: valid_loss = 1.7089444159495837, valid_acc = 0.7296666666666667\n",
      "\n"
     ]
    },
    {
     "name": "stderr",
     "output_type": "stream",
     "text": [
      "100%|██████████| 79/79 [00:23<00:00,  3.32it/s]\n"
     ]
    },
    {
     "name": "stdout",
     "output_type": "stream",
     "text": [
      "Finished: ep=30, lr=0.05, cores=5, test_acc=0.7315\n",
      "epoch 29: train_loss = 5.099066054830822, train_acc = 0.5120740740740741\n"
     ]
    },
    {
     "name": "stderr",
     "output_type": "stream",
     "text": [
      "100%|██████████| 47/47 [00:00<00:00, 150.18it/s]\n"
     ]
    },
    {
     "name": "stdout",
     "output_type": "stream",
     "text": [
      "epoch 29: valid_loss = 2.5403156553441066, valid_acc = 0.5178333333333334\n",
      "\n"
     ]
    },
    {
     "name": "stderr",
     "output_type": "stream",
     "text": [
      "100%|██████████| 79/79 [00:00<00:00, 189.69it/s]\n"
     ]
    },
    {
     "name": "stdout",
     "output_type": "stream",
     "text": [
      "Finished: ep=30, lr=0.01, cores=5, test_acc=0.5225\n"
     ]
    },
    {
     "data": {
      "image/png": "[encoded data removed]",
      "text/plain": [
       "<Figure size 640x480 with 1 Axes>"
      ]
     },
     "metadata": {},
     "output_type": "display_data"
    },
    {
     "data": {
      "image/png": "[encoded data removed]",
      "text/plain": [
       "<Figure size 640x480 with 1 Axes>"
      ]
     },
     "metadata": {},
     "output_type": "display_data"
    },
    {
     "data": {
      "image/png": "[encoded data removed]",
      "text/plain": [
       "<Figure size 1000x500 with 1 Axes>"
      ]
     },
     "metadata": {},
     "output_type": "display_data"
    },
    {
     "name": "stdout",
     "output_type": "stream",
     "text": [
      "All done in 0.12 d 2.84 h 170.58 m 10234.55 s\n"
     ]
    }
   ],
   "source": [
    "if __name__ == \"__main__\":\n",
    "        # 3x3 網格：共 9 組\n",
    "    epoch_list = [10, 20, 30]\n",
    "    lr_list    = [0.10, 0.05, 0.01]\n",
    "    configs = [{\"epochs\": ep, \"lr\": lr} for ep, lr in product(epoch_list, lr_list)]\n",
    "    # 你可以自由調整這個數字（每個 config 內用幾個 core）\n",
    "    per_config_cores = 5\n",
    "    t0 = time.perf_counter()\n",
    "    results = run_many_configs_in_parallel(\n",
    "        configs,\n",
    "        data_root=\".\",\n",
    "        batch_size=128,\n",
    "        global_batch_size=256,\n",
    "        per_config_cores=per_config_cores,\n",
    "        start_method=\"fork\",   \n",
    "        save_dir=\"results_parallel\"\n",
    "    )\n",
    "\n",
    "    t1 = time.perf_counter()\n",
    "    print(f\"All done in {(t1 - t0)/60/60/24:.2f} d {(t1 - t0)/60/60:.2f} h {(t1 - t0)/60:.2f} m {t1 - t0:.2f} s\")\n",
    "\n"
   ]
  }
 ],
 "metadata": {
  "kernelspec": {
   "display_name": "Python 3",
   "language": "python",
   "name": "python3"
  },
  "language_info": {
   "codemirror_mode": {
    "name": "ipython",
    "version": 3
   },
   "file_extension": ".py",
   "mimetype": "text/x-python",
   "name": "python",
   "nbconvert_exporter": "python",
   "pygments_lexer": "ipython3",
   "version": "3.12.7"
  }
 },
 "nbformat": 4,
 "nbformat_minor": 2
}
